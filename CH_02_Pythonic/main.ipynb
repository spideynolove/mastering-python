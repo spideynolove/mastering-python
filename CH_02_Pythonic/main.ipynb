{
 "cells": [
  {
   "cell_type": "markdown",
   "metadata": {},
   "source": [
    "# Sample code"
   ]
  },
  {
   "cell_type": "code",
   "execution_count": 144,
   "metadata": {},
   "outputs": [],
   "source": [
    "def filter_modulo3(items, modulo):\n",
    "    for item in items:\n",
    "        # print(item, item % modulo)\n",
    "        # if item % modulo == 0:\n",
    "        if item % modulo:\n",
    "            yield item"
   ]
  },
  {
   "cell_type": "code",
   "execution_count": 145,
   "metadata": {},
   "outputs": [],
   "source": [
    "# test\n",
    "def filter_modulo2(items, modulo):\n",
    "    output_items, nonoutput_items = [], []\n",
    "    for i in range(len(items)):\n",
    "        if items[i] % modulo:\n",
    "            output_items.append(items[i])\n",
    "        else:\n",
    "            nonoutput_items.append(items[i])\n",
    "    return output_items, nonoutput_items"
   ]
  },
  {
   "cell_type": "code",
   "execution_count": 146,
   "metadata": {},
   "outputs": [],
   "source": [
    "# import this\n",
    "def filter_modulo(items, modulo):\n",
    "    output_items = []\n",
    "    for i in range(len(items)):\n",
    "        if items[i] % modulo:\n",
    "            output_items.append(items[i])\n",
    "    return output_items"
   ]
  },
  {
   "cell_type": "code",
   "execution_count": 147,
   "metadata": {},
   "outputs": [],
   "source": [
    "from random import randint\n",
    "N = 13\n",
    "max_range = 1000 \n",
    "ilist = [randint(1, max_range) for _ in range(N)]\n",
    "# ilist"
   ]
  },
  {
   "cell_type": "code",
   "execution_count": 148,
   "metadata": {},
   "outputs": [
    {
     "data": {
      "text/plain": [
       "[82, 656, 406, 197, 305, 62, 296, 967, 104, 221]"
      ]
     },
     "execution_count": 148,
     "metadata": {},
     "output_type": "execute_result"
    }
   ],
   "source": [
    "[x for x in filter_modulo3(ilist, 3)]"
   ]
  },
  {
   "cell_type": "code",
   "execution_count": 149,
   "metadata": {},
   "outputs": [
    {
     "data": {
      "text/plain": [
       "82"
      ]
     },
     "execution_count": 149,
     "metadata": {},
     "output_type": "execute_result"
    }
   ],
   "source": [
    "next(filter_modulo3(ilist, 3))"
   ]
  },
  {
   "cell_type": "code",
   "execution_count": 150,
   "metadata": {},
   "outputs": [
    {
     "data": {
      "text/plain": [
       "([82, 656, 406, 197, 305, 62, 296, 967, 104, 221], [363, 648, 30])"
      ]
     },
     "execution_count": 150,
     "metadata": {},
     "output_type": "execute_result"
    }
   ],
   "source": [
    "filter_modulo2(ilist, 3)"
   ]
  },
  {
   "cell_type": "code",
   "execution_count": 151,
   "metadata": {},
   "outputs": [
    {
     "data": {
      "text/plain": [
       "[82, 656, 406, 197, 305, 62, 296, 967, 104, 221]"
      ]
     },
     "execution_count": 151,
     "metadata": {},
     "output_type": "execute_result"
    }
   ],
   "source": [
    "filter_modulo(ilist, 3)"
   ]
  },
  {
   "cell_type": "code",
   "execution_count": 163,
   "metadata": {},
   "outputs": [
    {
     "data": {
      "text/plain": [
       "(<function __main__.<lambda>(i, m)>,\n",
       " [82, 656, 406, 197, 305, 62, 296, 967, 104, 221])"
      ]
     },
     "execution_count": 163,
     "metadata": {},
     "output_type": "execute_result"
    }
   ],
   "source": [
    "filter_modulolamp = lambda i, m: [i[j] for j in range(len(i)) if i[j] % m]\n",
    "filter_modulolamp, filter_modulolamp(ilist, 3)"
   ]
  },
  {
   "cell_type": "code",
   "execution_count": 164,
   "metadata": {},
   "outputs": [],
   "source": [
    "def make_eggs(a, b):\n",
    "    'while', ['technically']    # ???\n",
    "    print('correct')\n",
    "    {'this': 'is', 'highly': 'unreadable'}  # ???\n",
    "    print(1 - a + ((b ** 4) / (2 ** 2)))"
   ]
  },
  {
   "cell_type": "code",
   "execution_count": 165,
   "metadata": {},
   "outputs": [
    {
     "name": "stdout",
     "output_type": "stream",
     "text": [
      "correct\n",
      "4.0\n"
     ]
    }
   ],
   "source": [
    "make_eggs(1, 2)"
   ]
  },
  {
   "cell_type": "code",
   "execution_count": 184,
   "metadata": {},
   "outputs": [],
   "source": [
    "samples = list(range(3, 15))"
   ]
  },
  {
   "cell_type": "code",
   "execution_count": 185,
   "metadata": {},
   "outputs": [],
   "source": [
    "from functools import reduce\n",
    "fib = lambda n:reduce(lambda x,y:(x[0]+x[1],x[0]),[(1,1)]*(n-2))[0]"
   ]
  },
  {
   "cell_type": "code",
   "execution_count": 186,
   "metadata": {},
   "outputs": [
    {
     "data": {
      "text/plain": [
       "[1, 2, 3, 5, 8, 13, 21, 34, 55, 89, 144, 233]"
      ]
     },
     "execution_count": 186,
     "metadata": {},
     "output_type": "execute_result"
    }
   ],
   "source": [
    "[fib(i) for i in samples]"
   ]
  },
  {
   "cell_type": "code",
   "execution_count": 187,
   "metadata": {},
   "outputs": [
    {
     "data": {
      "text/plain": [
       "[1, 2, 3, 5, 8, 13, 21, 34, 55, 89, 144, 233]"
      ]
     },
     "execution_count": 187,
     "metadata": {},
     "output_type": "execute_result"
    }
   ],
   "source": [
    "[fib(i) for i in range(3, 15)]"
   ]
  },
  {
   "cell_type": "code",
   "execution_count": 188,
   "metadata": {},
   "outputs": [],
   "source": [
    "def fib2(n):\n",
    "    a, b = 0, 1\n",
    "    for _ in range(n):\n",
    "        yield a\n",
    "        a, b = b, a + b"
   ]
  },
  {
   "cell_type": "code",
   "execution_count": 189,
   "metadata": {},
   "outputs": [
    {
     "data": {
      "text/plain": [
       "[0, 1, 1, 2, 3, 5, 8, 13, 21, 34, 55, 89, 144, 233, 377]"
      ]
     },
     "execution_count": 189,
     "metadata": {},
     "output_type": "execute_result"
    }
   ],
   "source": [
    "list(fib2(15)) "
   ]
  },
  {
   "cell_type": "code",
   "execution_count": 190,
   "metadata": {},
   "outputs": [],
   "source": [
    "# user_input = input(\"Pass an integer number?\")\n",
    "user_input = 10\n",
    "try:\n",
    "    value = int(user_input)\n",
    "except:\n",
    "    pass"
   ]
  },
  {
   "cell_type": "code",
   "execution_count": 191,
   "metadata": {},
   "outputs": [],
   "source": [
    "dict_ = {'spam': 'eggs'}\n",
    "list_ = ['spam']\n",
    "set_ = {'spam', 'eggs'}\n",
    "# for key in dict_:\n",
    "for key in list(dict_): # copying by list()\n",
    "    del dict_[key]\n",
    "# for item in list_:\n",
    "for item in list(list_):\n",
    "    list_.remove(item)\n",
    "# for item in set_:\n",
    "for item in list(set_):\n",
    "    set_.remove(item)"
   ]
  },
  {
   "cell_type": "code",
   "execution_count": 192,
   "metadata": {},
   "outputs": [
    {
     "name": "stdout",
     "output_type": "stream",
     "text": [
      "We caught an exception: ValueError(\"invalid literal for int() with base 10: 'a'\")\n"
     ]
    }
   ],
   "source": [
    "def spam(value):\n",
    "    exception = None\n",
    "    try:\n",
    "        value = int(value)\n",
    "    except ValueError as exception:\n",
    "    #     print('We caught an exception: %r' % exception)\n",
    "    # return exception\n",
    "        try:\n",
    "            print('We caught an exception: %r' % exception)\n",
    "        finally:\n",
    "            del exception\n",
    "\n",
    "# spam('a')"
   ]
  },
  {
   "cell_type": "code",
   "execution_count": 193,
   "metadata": {},
   "outputs": [
    {
     "data": {
      "text/plain": [
       "ValueError(\"invalid literal for int() with base 10: 'a'\")"
      ]
     },
     "execution_count": 193,
     "metadata": {},
     "output_type": "execute_result"
    }
   ],
   "source": [
    "def spam(value):\n",
    "    exception = None\n",
    "    try:\n",
    "        value = int(value)\n",
    "    except ValueError as e:\n",
    "        exception = e\n",
    "        # print('We caught an exception: %r' % exception)\n",
    "    return exception\n",
    "\n",
    "# spam('a')"
   ]
  }
 ],
 "metadata": {
  "kernelspec": {
   "display_name": "Python-PoGFmxRL",
   "language": "python",
   "name": "python3"
  },
  "language_info": {
   "codemirror_mode": {
    "name": "ipython",
    "version": 3
   },
   "file_extension": ".py",
   "mimetype": "text/x-python",
   "name": "python",
   "nbconvert_exporter": "python",
   "pygments_lexer": "ipython3",
   "version": "3.11.4"
  },
  "orig_nbformat": 4
 },
 "nbformat": 4,
 "nbformat_minor": 2
}
