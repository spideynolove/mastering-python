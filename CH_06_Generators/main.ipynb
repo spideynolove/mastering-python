{
 "cells": [
  {
   "cell_type": "code",
   "execution_count": 532,
   "metadata": {},
   "outputs": [],
   "source": [
    "from itertools import tee, combinations\n",
    "from functools import wraps"
   ]
  },
  {
   "cell_type": "markdown",
   "metadata": {},
   "source": [
    "#### generators"
   ]
  },
  {
   "cell_type": "code",
   "execution_count": 533,
   "metadata": {},
   "outputs": [
    {
     "name": "stdout",
     "output_type": "stream",
     "text": [
      "10\n",
      "12.5\n",
      "15.0\n",
      "17.5\n",
      "20.0\n"
     ]
    }
   ],
   "source": [
    "def count(start=0, step=1, stop=10):\n",
    "    n = start\n",
    "    while n <= stop:\n",
    "        yield n\n",
    "        n += step\n",
    "\n",
    "for x in count(10, 2.5, 20):\n",
    "    print(x)"
   ]
  },
  {
   "cell_type": "code",
   "execution_count": 534,
   "metadata": {},
   "outputs": [],
   "source": [
    "def generator():\n",
    "    yield 'this is a generator'\n",
    "    return 'returning from a generator'\n",
    "\n",
    "g = generator()"
   ]
  },
  {
   "cell_type": "code",
   "execution_count": 535,
   "metadata": {},
   "outputs": [
    {
     "data": {
      "text/plain": [
       "'this is a generator'"
      ]
     },
     "execution_count": 535,
     "metadata": {},
     "output_type": "execute_result"
    }
   ],
   "source": [
    "next(g)"
   ]
  },
  {
   "cell_type": "code",
   "execution_count": 536,
   "metadata": {},
   "outputs": [],
   "source": [
    "# next(g)"
   ]
  },
  {
   "cell_type": "code",
   "execution_count": 537,
   "metadata": {},
   "outputs": [
    {
     "name": "stdout",
     "output_type": "stream",
     "text": [
      "0\n",
      "1\n",
      "4\n",
      "9\n"
     ]
    }
   ],
   "source": [
    "generator = (x ** 2 for x in range(4))\n",
    "\n",
    "for x in generator:\n",
    "   print(x)\n"
   ]
  },
  {
   "cell_type": "code",
   "execution_count": 538,
   "metadata": {},
   "outputs": [
    {
     "data": {
      "text/plain": [
       "__main__.Count"
      ]
     },
     "execution_count": 538,
     "metadata": {},
     "output_type": "execute_result"
    }
   ],
   "source": [
    "class Count(object):\n",
    "    def __init__(self, start=0, step=1, stop=10):\n",
    "        self.n = start\n",
    "        self.step = step\n",
    "        self.stop = stop\n",
    "\n",
    "    def __iter__(self):\n",
    "        return self\n",
    "\n",
    "    def __next__(self):\n",
    "        n = self.n\n",
    "        if n > self.stop:\n",
    "            raise StopIteration()\n",
    "        self.n += self.step\n",
    "        return n\n",
    "\n",
    "\n",
    "xcount = Count(10, 2.5, 20)\n",
    "type(xcount)"
   ]
  },
  {
   "cell_type": "code",
   "execution_count": 539,
   "metadata": {},
   "outputs": [
    {
     "name": "stdout",
     "output_type": "stream",
     "text": [
      "10\n",
      "12.5\n",
      "15.0\n",
      "17.5\n",
      "20.0\n"
     ]
    }
   ],
   "source": [
    "for x in xcount:\n",
    "    print(x)"
   ]
  },
  {
   "cell_type": "markdown",
   "metadata": {},
   "source": [
    "#### good and bad"
   ]
  },
  {
   "cell_type": "code",
   "execution_count": 540,
   "metadata": {},
   "outputs": [],
   "source": [
    "def generator():\n",
    "    print('Before 1')\n",
    "    yield 1\n",
    "    print('After 1')\n",
    "    print('Before 2')\n",
    "    yield 2\n",
    "    print('After 2')\n",
    "    print('Before 3')\n",
    "    yield 3\n",
    "    print('After 3')"
   ]
  },
  {
   "cell_type": "code",
   "execution_count": 541,
   "metadata": {},
   "outputs": [],
   "source": [
    "g = generator()"
   ]
  },
  {
   "cell_type": "code",
   "execution_count": 542,
   "metadata": {},
   "outputs": [
    {
     "name": "stdout",
     "output_type": "stream",
     "text": [
      "Before 1\n",
      "Got 1\n"
     ]
    }
   ],
   "source": [
    "print('Got %d' % next(g))"
   ]
  },
  {
   "cell_type": "code",
   "execution_count": 543,
   "metadata": {},
   "outputs": [
    {
     "name": "stdout",
     "output_type": "stream",
     "text": [
      "After 1\n",
      "Before 2\n",
      "Got 2\n"
     ]
    }
   ],
   "source": [
    "print('Got %d' % next(g))"
   ]
  },
  {
   "cell_type": "code",
   "execution_count": 544,
   "metadata": {},
   "outputs": [
    {
     "name": "stdout",
     "output_type": "stream",
     "text": [
      "After 2\n",
      "Before 3\n",
      "Got 3\n"
     ]
    }
   ],
   "source": [
    "print('Got %d' % next(g))"
   ]
  },
  {
   "cell_type": "markdown",
   "metadata": {},
   "source": [
    "#### pipeline"
   ]
  },
  {
   "cell_type": "code",
   "execution_count": 545,
   "metadata": {},
   "outputs": [],
   "source": [
    "# Prepare lines.txt\n",
    "with open('lines.txt', 'w') as file:\n",
    "    written = file.write('''\n",
    "spam\n",
    "eggs\n",
    "spam spam\n",
    "eggs eggs\n",
    "spem spem\n",
    "spam spam spam\n",
    "spem spem\n",
    "eggs eggs eggs\n",
    "    '''.strip())"
   ]
  },
  {
   "cell_type": "code",
   "execution_count": 546,
   "metadata": {},
   "outputs": [],
   "source": [
    "def cat(filename):\n",
    "    for line in open(filename):\n",
    "        yield line.rstrip()\n",
    "\n",
    "\n",
    "def grep(sequence, search):\n",
    "    for line in sequence:\n",
    "        if search in line:\n",
    "            yield line\n",
    "\n",
    "\n",
    "def replace(sequence, search, replace):\n",
    "    for line in sequence:\n",
    "        yield line.replace(search, replace)"
   ]
  },
  {
   "cell_type": "code",
   "execution_count": 547,
   "metadata": {},
   "outputs": [
    {
     "data": {
      "text/plain": [
       "<generator object cat at 0x7f33a6e6f780>"
      ]
     },
     "execution_count": 547,
     "metadata": {},
     "output_type": "execute_result"
    }
   ],
   "source": [
    "lines = cat('lines.txt')\n",
    "lines"
   ]
  },
  {
   "cell_type": "code",
   "execution_count": 548,
   "metadata": {},
   "outputs": [
    {
     "data": {
      "text/plain": [
       "<generator object grep at 0x7f33a6d02420>"
      ]
     },
     "execution_count": 548,
     "metadata": {},
     "output_type": "execute_result"
    }
   ],
   "source": [
    "spam_lines = grep(lines, 'spam')\n",
    "spam_lines"
   ]
  },
  {
   "cell_type": "code",
   "execution_count": 549,
   "metadata": {},
   "outputs": [
    {
     "data": {
      "text/plain": [
       "<generator object replace at 0x7f33a6d31030>"
      ]
     },
     "execution_count": 549,
     "metadata": {},
     "output_type": "execute_result"
    }
   ],
   "source": [
    "bacon_lines = replace(spam_lines, 'spam', 'becon')\n",
    "bacon_lines"
   ]
  },
  {
   "cell_type": "code",
   "execution_count": 550,
   "metadata": {},
   "outputs": [
    {
     "name": "stdout",
     "output_type": "stream",
     "text": [
      "becon\n",
      "becon becon\n",
      "becon becon becon\n"
     ]
    }
   ],
   "source": [
    "for line in bacon_lines:\n",
    "    print(line)"
   ]
  },
  {
   "cell_type": "code",
   "execution_count": 551,
   "metadata": {},
   "outputs": [
    {
     "name": "stdout",
     "output_type": "stream",
     "text": [
      "ahihi ahihi\n",
      "ahihi ahihi\n"
     ]
    }
   ],
   "source": [
    "# Or the one-line version, fits within 78 characters:\n",
    "for line in replace(grep(cat('lines.txt'), 'spem'),\n",
    "                    'spem', 'ahihi'):\n",
    "    print(line)"
   ]
  },
  {
   "cell_type": "markdown",
   "metadata": {},
   "source": [
    "#### tee"
   ]
  },
  {
   "cell_type": "code",
   "execution_count": 552,
   "metadata": {},
   "outputs": [],
   "source": [
    "\n",
    "def spam_and_eggs():\n",
    "    yield 'spam'\n",
    "    yield 'eggs'\n",
    "\n",
    "a, b = tee(spam_and_eggs())"
   ]
  },
  {
   "cell_type": "code",
   "execution_count": 553,
   "metadata": {},
   "outputs": [
    {
     "data": {
      "text/plain": [
       "'spam'"
      ]
     },
     "execution_count": 553,
     "metadata": {},
     "output_type": "execute_result"
    }
   ],
   "source": [
    "next(a)"
   ]
  },
  {
   "cell_type": "code",
   "execution_count": 554,
   "metadata": {},
   "outputs": [
    {
     "data": {
      "text/plain": [
       "'eggs'"
      ]
     },
     "execution_count": 554,
     "metadata": {},
     "output_type": "execute_result"
    }
   ],
   "source": [
    "next(a)"
   ]
  },
  {
   "cell_type": "code",
   "execution_count": 555,
   "metadata": {},
   "outputs": [
    {
     "data": {
      "text/plain": [
       "'spam'"
      ]
     },
     "execution_count": 555,
     "metadata": {},
     "output_type": "execute_result"
    }
   ],
   "source": [
    "next(b)"
   ]
  },
  {
   "cell_type": "code",
   "execution_count": 556,
   "metadata": {},
   "outputs": [
    {
     "data": {
      "text/plain": [
       "'eggs'"
      ]
     },
     "execution_count": 556,
     "metadata": {},
     "output_type": "execute_result"
    }
   ],
   "source": [
    "next(b)"
   ]
  },
  {
   "cell_type": "code",
   "execution_count": 557,
   "metadata": {},
   "outputs": [],
   "source": [
    "# next(b)"
   ]
  },
  {
   "cell_type": "markdown",
   "metadata": {},
   "source": [
    "#### generator from generator"
   ]
  },
  {
   "cell_type": "code",
   "execution_count": 558,
   "metadata": {},
   "outputs": [
    {
     "name": "stdout",
     "output_type": "stream",
     "text": [
      "()\n",
      "('a',)\n",
      "('b',)\n",
      "('c',)\n",
      "('a', 'b')\n",
      "('a', 'c')\n",
      "('b', 'c')\n",
      "('a', 'b', 'c')\n"
     ]
    }
   ],
   "source": [
    "def powerset(sequence):\n",
    "    for size in range(len(sequence) + 1):\n",
    "        for item in combinations(sequence, size):\n",
    "            yield item\n",
    "\n",
    "\n",
    "for result in powerset('abc'):\n",
    "    print(result)"
   ]
  },
  {
   "cell_type": "code",
   "execution_count": 559,
   "metadata": {},
   "outputs": [
    {
     "name": "stdout",
     "output_type": "stream",
     "text": [
      "()\n",
      "('a',)\n",
      "('b',)\n",
      "('c',)\n",
      "('a', 'b')\n",
      "('a', 'c')\n",
      "('b', 'c')\n",
      "('a', 'b', 'c')\n"
     ]
    }
   ],
   "source": [
    "def powerset(sequence):\n",
    "    for size in range(len(sequence) + 1):\n",
    "        # yield from syntax is new in Python 3.3\n",
    "        yield from combinations(sequence, size)\n",
    "\n",
    "\n",
    "for result in powerset('abc'):\n",
    "    print(result)"
   ]
  },
  {
   "cell_type": "code",
   "execution_count": 560,
   "metadata": {},
   "outputs": [
    {
     "data": {
      "text/plain": [
       "[1, 2, 3, 4, 5, 6, 7, 8]"
      ]
     },
     "execution_count": 560,
     "metadata": {},
     "output_type": "execute_result"
    }
   ],
   "source": [
    "def flatten(sequence):\n",
    "    for item in sequence:\n",
    "        try:\n",
    "            yield from flatten(item)\n",
    "        except TypeError:\n",
    "            yield item\n",
    "\n",
    "list(flatten([1, [2, [3, [4, 5], 6], 7], 8]))"
   ]
  },
  {
   "cell_type": "markdown",
   "metadata": {},
   "source": [
    "#### context managers"
   ]
  },
  {
   "cell_type": "code",
   "execution_count": 561,
   "metadata": {},
   "outputs": [],
   "source": [
    "import datetime\n",
    "from contextlib import contextmanager, redirect_stdout, ExitStack\n",
    "\n",
    "\n",
    "# Context manager that shows how long a context was active\n",
    "@contextmanager\n",
    "def timer(name):\n",
    "    start_time = datetime.datetime.now()\n",
    "    yield\n",
    "    stop_time = datetime.datetime.now()\n",
    "    print('%s took %s' % (name, stop_time - start_time))\n",
    "\n",
    "\n",
    "# The write to log function writes all stdout (regular print data) to\n",
    "# a file. The redirect_stdout context wrapper\n",
    "# temporarily redirects standard output to a given file handle, in\n",
    "# this case the file we just opened for writing.\n",
    "@contextmanager\n",
    "def write_to_log(name):\n",
    "    with open('%s.txt' % name, 'w') as fh:\n",
    "        with redirect_stdout(fh):\n",
    "            with timer(name):\n",
    "                yield"
   ]
  },
  {
   "cell_type": "code",
   "execution_count": 562,
   "metadata": {},
   "outputs": [],
   "source": [
    "# @contextmanager\n",
    "# def write_to_log(name):\n",
    "#     with ExitStack() as stack:\n",
    "#         file = stack.enter_context(open('stdout.txt', 'w'))\n",
    "#         stack.enter_context(redirect_stdout(file))\n",
    "#         stack.enter_context(timer(name))\n",
    "#         yield"
   ]
  },
  {
   "cell_type": "code",
   "execution_count": 563,
   "metadata": {},
   "outputs": [],
   "source": [
    "# Use the context manager as a decorator\n",
    "@write_to_log('some function')\n",
    "def some_function():\n",
    "    print('This function takes a bit of time to execute')\n",
    "    print('Do more')\n",
    "\n",
    "\n",
    "some_function()"
   ]
  },
  {
   "cell_type": "code",
   "execution_count": 564,
   "metadata": {},
   "outputs": [],
   "source": [
    "with ExitStack() as stack:\n",
    "    spam_fh = stack.enter_context(open('spam.txt', 'w'))\n",
    "    eggs_fh = stack.enter_context(open('eggs.txt', 'w'))\n",
    "    spam_bytes_written = spam_fh.write('writing to spam')\n",
    "    eggs_bytes_written = eggs_fh.write('writing to eggs')\n",
    "\n",
    "    # Move the contexts to a new ExitStack and store the\n",
    "    # close method\n",
    "    close_handlers = stack.pop_all().close\n",
    "\n",
    "spam_bytes_written = spam_fh.write('still writing to spam')\n",
    "eggs_bytes_written = eggs_fh.write('still writing to eggs')"
   ]
  },
  {
   "cell_type": "code",
   "execution_count": 565,
   "metadata": {},
   "outputs": [
    {
     "data": {
      "text/plain": [
       "21"
      ]
     },
     "execution_count": 565,
     "metadata": {},
     "output_type": "execute_result"
    }
   ],
   "source": [
    "spam_bytes_written"
   ]
  },
  {
   "cell_type": "code",
   "execution_count": 566,
   "metadata": {},
   "outputs": [
    {
     "data": {
      "text/plain": [
       "21"
      ]
     },
     "execution_count": 566,
     "metadata": {},
     "output_type": "execute_result"
    }
   ],
   "source": [
    "eggs_bytes_written"
   ]
  },
  {
   "cell_type": "code",
   "execution_count": 567,
   "metadata": {},
   "outputs": [],
   "source": [
    "# # # After closing we can't write anymore\n",
    "# close_handlers()\n",
    "# spam_bytes_written = spam_fh.write('cant write anymore')\n",
    "# # spam_bytes_written"
   ]
  },
  {
   "cell_type": "markdown",
   "metadata": {},
   "source": [
    "#### coroutine"
   ]
  },
  {
   "cell_type": "code",
   "execution_count": 568,
   "metadata": {},
   "outputs": [],
   "source": [
    "def coroutine(function):\n",
    "    @wraps(function)\n",
    "    def _coroutine(*args, **kwargs):\n",
    "        active_coroutine = function(*args, **kwargs)\n",
    "        next(active_coroutine)\n",
    "        return active_coroutine\n",
    "    return _coroutine"
   ]
  },
  {
   "cell_type": "code",
   "execution_count": 569,
   "metadata": {},
   "outputs": [
    {
     "name": "stdout",
     "output_type": "stream",
     "text": [
      "Waiting for yield...\n"
     ]
    }
   ],
   "source": [
    "@coroutine\n",
    "def spam():\n",
    "    while True:\n",
    "        print('Waiting for yield...')\n",
    "        value = yield\n",
    "        print('spam received: %s' % value)\n",
    "\n",
    "\n",
    "generator = spam()"
   ]
  },
  {
   "cell_type": "code",
   "execution_count": 570,
   "metadata": {},
   "outputs": [
    {
     "name": "stdout",
     "output_type": "stream",
     "text": [
      "spam received: a\n",
      "Waiting for yield...\n"
     ]
    }
   ],
   "source": [
    "generator.send('a')\n"
   ]
  },
  {
   "cell_type": "code",
   "execution_count": 571,
   "metadata": {},
   "outputs": [
    {
     "name": "stdout",
     "output_type": "stream",
     "text": [
      "spam received: b\n",
      "Waiting for yield...\n"
     ]
    }
   ],
   "source": [
    "generator.send('b')\n"
   ]
  },
  {
   "cell_type": "code",
   "execution_count": 572,
   "metadata": {},
   "outputs": [
    {
     "name": "stdout",
     "output_type": "stream",
     "text": [
      "spam received: c\n",
      "Waiting for yield...\n"
     ]
    }
   ],
   "source": [
    "generator.send('c')\n"
   ]
  },
  {
   "cell_type": "code",
   "execution_count": 573,
   "metadata": {},
   "outputs": [],
   "source": [
    "@coroutine\n",
    "def simple_coroutine():\n",
    "    print('Setting up the coroutine')\n",
    "    try:\n",
    "        while True:\n",
    "            item = yield\n",
    "            print('Got item: %r' % item)\n",
    "    except GeneratorExit:\n",
    "        print('Normal exit')\n",
    "    except Exception as e:\n",
    "        print('Exception exit: %r' % e)\n",
    "        raise\n",
    "    finally:\n",
    "        print('Any exit')"
   ]
  },
  {
   "cell_type": "code",
   "execution_count": 574,
   "metadata": {},
   "outputs": [
    {
     "name": "stdout",
     "output_type": "stream",
     "text": [
      "Creating simple coroutine\n",
      "Setting up the coroutine\n",
      "\n",
      "Sending spam\n",
      "Got item: 'spam'\n",
      "\n",
      "Close the coroutine\n",
      "Normal exit\n",
      "Any exit\n",
      "\n",
      "Creating simple coroutine\n",
      "Setting up the coroutine\n",
      "\n",
      "Sending eggs\n",
      "Got item: 'eggs'\n",
      "\n",
      "Throwing runtime error\n",
      "Exception exit: RuntimeError('Oops...')\n",
      "Any exit\n",
      "('Oops...',)\n"
     ]
    }
   ],
   "source": [
    "print('Creating simple coroutine')\n",
    "active_coroutine = simple_coroutine()\n",
    "print()\n",
    "\n",
    "print('Sending spam')\n",
    "active_coroutine.send('spam')\n",
    "print()\n",
    "\n",
    "print('Close the coroutine')\n",
    "active_coroutine.close()\n",
    "print()\n",
    "\n",
    "print('Creating simple coroutine')\n",
    "active_coroutine = simple_coroutine()\n",
    "print()\n",
    "\n",
    "print('Sending eggs')\n",
    "active_coroutine.send('eggs')\n",
    "print()\n",
    "\n",
    "print('Throwing runtime error')\n",
    "try:\n",
    "    active_coroutine.throw(RuntimeError, 'Oops...')\n",
    "except RuntimeError as exception:\n",
    "    print(exception.args)\n",
    "    pass\n"
   ]
  },
  {
   "cell_type": "markdown",
   "metadata": {},
   "source": [
    "#### bidirectional pipeline"
   ]
  },
  {
   "cell_type": "code",
   "execution_count": 575,
   "metadata": {},
   "outputs": [],
   "source": [
    "@coroutine\n",
    "def replace(search, replace):\n",
    "    while True:\n",
    "        item = yield\n",
    "        print(item.replace(search, replace))\n",
    "\n"
   ]
  },
  {
   "cell_type": "code",
   "execution_count": 576,
   "metadata": {},
   "outputs": [
    {
     "name": "stdout",
     "output_type": "stream",
     "text": [
      "sida\n",
      "eggs\n",
      "sida sida\n",
      "eggs eggs\n",
      "spem spem\n",
      "sida sida sida\n",
      "spem spem\n",
      "eggs eggs eggs\n"
     ]
    }
   ],
   "source": [
    "spam_replace = replace('spam', 'sida')\n",
    "for line in open('lines.txt'):\n",
    "    spam_replace.send(line.rstrip())"
   ]
  },
  {
   "cell_type": "code",
   "execution_count": 577,
   "metadata": {},
   "outputs": [],
   "source": [
    "@coroutine\n",
    "def replace(search, replace):\n",
    "    while True:\n",
    "        item = yield\n",
    "        # not print as above\n",
    "        yield item.replace(search, replace)"
   ]
  },
  {
   "cell_type": "code",
   "execution_count": 578,
   "metadata": {},
   "outputs": [
    {
     "data": {
      "text/plain": [
       "'sida'"
      ]
     },
     "execution_count": 578,
     "metadata": {},
     "output_type": "execute_result"
    }
   ],
   "source": [
    "spam_replace = replace('spam', 'sida')\n",
    "spam_replace.send('spam')"
   ]
  },
  {
   "cell_type": "code",
   "execution_count": 579,
   "metadata": {},
   "outputs": [],
   "source": [
    "spam_replace.send('spam spam')"
   ]
  },
  {
   "cell_type": "code",
   "execution_count": 580,
   "metadata": {},
   "outputs": [
    {
     "data": {
      "text/plain": [
       "'sida sida sida'"
      ]
     },
     "execution_count": 580,
     "metadata": {},
     "output_type": "execute_result"
    }
   ],
   "source": [
    "spam_replace.send('spam spam spam')"
   ]
  },
  {
   "cell_type": "code",
   "execution_count": 581,
   "metadata": {},
   "outputs": [],
   "source": [
    "@coroutine\n",
    "def replace(search, replace):\n",
    "    item = yield\n",
    "    while True:\n",
    "        item = yield item.replace(search, replace)"
   ]
  },
  {
   "cell_type": "code",
   "execution_count": 582,
   "metadata": {},
   "outputs": [],
   "source": [
    "spam_replace = replace('spam', 'sidasida')"
   ]
  },
  {
   "cell_type": "code",
   "execution_count": 583,
   "metadata": {},
   "outputs": [
    {
     "data": {
      "text/plain": [
       "'sidasida'"
      ]
     },
     "execution_count": 583,
     "metadata": {},
     "output_type": "execute_result"
    }
   ],
   "source": [
    "spam_replace.send('spam')"
   ]
  },
  {
   "cell_type": "code",
   "execution_count": 584,
   "metadata": {},
   "outputs": [
    {
     "data": {
      "text/plain": [
       "'sidasida sidasida'"
      ]
     },
     "execution_count": 584,
     "metadata": {},
     "output_type": "execute_result"
    }
   ],
   "source": [
    "spam_replace.send('spam spam')"
   ]
  },
  {
   "cell_type": "code",
   "execution_count": 585,
   "metadata": {},
   "outputs": [
    {
     "data": {
      "text/plain": [
       "'sidasida sidasida sidasida'"
      ]
     },
     "execution_count": 585,
     "metadata": {},
     "output_type": "execute_result"
    }
   ],
   "source": [
    "spam_replace.send('spam spam spam')"
   ]
  },
  {
   "cell_type": "code",
   "execution_count": 586,
   "metadata": {},
   "outputs": [],
   "source": [
    "# Grep sends all matching items to the target\n",
    "@coroutine\n",
    "def grep(target, pattern):\n",
    "    while True:\n",
    "        item = yield\n",
    "        if pattern in item:\n",
    "            # target.send((yield))\n",
    "            target.send(item)"
   ]
  },
  {
   "cell_type": "code",
   "execution_count": 587,
   "metadata": {},
   "outputs": [],
   "source": [
    "# Replace does a search and replace on the items and sends it to\n",
    "# the target once it’s done\n",
    "@coroutine\n",
    "def replace(target, search, replace):\n",
    "    while True:\n",
    "        target.send((yield).replace(search, replace))"
   ]
  },
  {
   "cell_type": "code",
   "execution_count": 588,
   "metadata": {},
   "outputs": [],
   "source": [
    "# Print will print the items using the provided formatstring\n",
    "@coroutine\n",
    "def print_(formatstring):\n",
    "    while True:\n",
    "        print(formatstring % (yield))"
   ]
  },
  {
   "cell_type": "code",
   "execution_count": 589,
   "metadata": {},
   "outputs": [],
   "source": [
    "# Tee multiplexes the items to multiple targets\n",
    "@coroutine\n",
    "def tee(*targets):\n",
    "    while True:\n",
    "        item = yield\n",
    "        for target in targets:\n",
    "            # target.send((yield))\n",
    "            target.send(item)"
   ]
  },
  {
   "cell_type": "code",
   "execution_count": 590,
   "metadata": {},
   "outputs": [],
   "source": [
    "# Because we wrap the results we need to work backwards from the\n",
    "# inner layer to the outer layer.\n",
    "\n",
    "# First, create a printer for the items:\n",
    "printer = print_('%s')"
   ]
  },
  {
   "cell_type": "code",
   "execution_count": 591,
   "metadata": {},
   "outputs": [
    {
     "data": {
      "text/plain": [
       "<generator object replace at 0x7f33a6d31c60>"
      ]
     },
     "execution_count": 591,
     "metadata": {},
     "output_type": "execute_result"
    }
   ],
   "source": [
    "# Create replacers that send the output to the printer\n",
    "replacer_spam = replace(printer, 'spam', 'bacon')\n",
    "replacer_spam"
   ]
  },
  {
   "cell_type": "code",
   "execution_count": 592,
   "metadata": {},
   "outputs": [
    {
     "data": {
      "text/plain": [
       "<generator object replace at 0x7f33a6d317b0>"
      ]
     },
     "execution_count": 592,
     "metadata": {},
     "output_type": "execute_result"
    }
   ],
   "source": [
    "replacer_eggs = replace(printer, 'spam spam', 'sausage')\n",
    "replacer_eggs"
   ]
  },
  {
   "cell_type": "code",
   "execution_count": 593,
   "metadata": {},
   "outputs": [
    {
     "data": {
      "text/plain": [
       "<generator object tee at 0x7f33a6d01d20>"
      ]
     },
     "execution_count": 593,
     "metadata": {},
     "output_type": "execute_result"
    }
   ],
   "source": [
    "# Create a tee to send the input to both the spam and the eggs\n",
    "# replacers\n",
    "branch = tee(replacer_spam, replacer_eggs)\n",
    "branch"
   ]
  },
  {
   "cell_type": "code",
   "execution_count": 594,
   "metadata": {},
   "outputs": [
    {
     "data": {
      "text/plain": [
       "<generator object grep at 0x7f33a6d02880>"
      ]
     },
     "execution_count": 594,
     "metadata": {},
     "output_type": "execute_result"
    }
   ],
   "source": [
    "# Send all items containing spam to the tee command\n",
    "grepper = grep(branch, 'spam')\n",
    "grepper"
   ]
  },
  {
   "cell_type": "code",
   "execution_count": 595,
   "metadata": {},
   "outputs": [
    {
     "name": "stdout",
     "output_type": "stream",
     "text": [
      "bacon\n",
      "spam\n",
      "bacon bacon\n",
      "sausage\n",
      "bacon bacon bacon\n",
      "sausage spam\n"
     ]
    }
   ],
   "source": [
    "# Send the data to the grepper for all the processing\n",
    "for line in open('lines.txt'):\n",
    "    grepper.send(line.rstrip())"
   ]
  },
  {
   "cell_type": "markdown",
   "metadata": {},
   "source": [
    "#### can bring that matching algorithm to the next level???"
   ]
  },
  {
   "cell_type": "markdown",
   "metadata": {},
   "source": [
    "#### states"
   ]
  },
  {
   "cell_type": "code",
   "execution_count": 596,
   "metadata": {},
   "outputs": [],
   "source": [
    "@coroutine\n",
    "def average():\n",
    "    count = 1\t\n",
    "    total = yield\n",
    "    while True:\n",
    "        total += yield total / count\n",
    "        count += 1\n",
    "\n",
    "averager = average()"
   ]
  },
  {
   "cell_type": "code",
   "execution_count": 597,
   "metadata": {},
   "outputs": [
    {
     "data": {
      "text/plain": [
       "20.0"
      ]
     },
     "execution_count": 597,
     "metadata": {},
     "output_type": "execute_result"
    }
   ],
   "source": [
    "averager.send(20)"
   ]
  },
  {
   "cell_type": "code",
   "execution_count": 598,
   "metadata": {},
   "outputs": [
    {
     "data": {
      "text/plain": [
       "15.0"
      ]
     },
     "execution_count": 598,
     "metadata": {},
     "output_type": "execute_result"
    }
   ],
   "source": [
    "averager.send(10)"
   ]
  },
  {
   "cell_type": "code",
   "execution_count": 599,
   "metadata": {},
   "outputs": [
    {
     "data": {
      "text/plain": [
       "15.0"
      ]
     },
     "execution_count": 599,
     "metadata": {},
     "output_type": "execute_result"
    }
   ],
   "source": [
    "averager.send(15)"
   ]
  },
  {
   "cell_type": "code",
   "execution_count": 600,
   "metadata": {},
   "outputs": [
    {
     "data": {
      "text/plain": [
       "5.0"
      ]
     },
     "execution_count": 600,
     "metadata": {},
     "output_type": "execute_result"
    }
   ],
   "source": [
    "averager.send(-25)\n"
   ]
  },
  {
   "cell_type": "code",
   "execution_count": 601,
   "metadata": {},
   "outputs": [],
   "source": [
    "@coroutine\n",
    "def print_(formatstring):\n",
    "    while True:\n",
    "        print(formatstring % (yield))"
   ]
  },
  {
   "cell_type": "code",
   "execution_count": 602,
   "metadata": {},
   "outputs": [],
   "source": [
    "# another way to write average\n",
    "@coroutine\n",
    "def average(target):\n",
    "    count = 0\n",
    "    total = 0\n",
    "    while True:\n",
    "        count += 1\n",
    "        total += yield\n",
    "        target.send(total / count)"
   ]
  },
  {
   "cell_type": "code",
   "execution_count": 603,
   "metadata": {},
   "outputs": [
    {
     "name": "stdout",
     "output_type": "stream",
     "text": [
      "20.0\n"
     ]
    }
   ],
   "source": [
    "printer = print_('%.1f')\n",
    "averager = average(printer)\n",
    "averager.send(20)"
   ]
  },
  {
   "cell_type": "code",
   "execution_count": 604,
   "metadata": {},
   "outputs": [
    {
     "name": "stdout",
     "output_type": "stream",
     "text": [
      "15.0\n"
     ]
    }
   ],
   "source": [
    "averager.send(10)"
   ]
  },
  {
   "cell_type": "code",
   "execution_count": 605,
   "metadata": {},
   "outputs": [
    {
     "name": "stdout",
     "output_type": "stream",
     "text": [
      "15.0\n"
     ]
    }
   ],
   "source": [
    "averager.send(15)"
   ]
  },
  {
   "cell_type": "code",
   "execution_count": 606,
   "metadata": {},
   "outputs": [
    {
     "name": "stdout",
     "output_type": "stream",
     "text": [
      "5.0\n"
     ]
    }
   ],
   "source": [
    "averager.send(-25)"
   ]
  },
  {
   "cell_type": "code",
   "execution_count": 631,
   "metadata": {},
   "outputs": [],
   "source": [
    "@coroutine\n",
    "def print_(formatstring):\n",
    "    while True:\n",
    "        print(formatstring % (yield))"
   ]
  },
  {
   "cell_type": "code",
   "execution_count": 632,
   "metadata": {},
   "outputs": [],
   "source": [
    "@coroutine\n",
    "def groupby():\n",
    "    # Fetch the first key and value and initialize the state\n",
    "    # variables\n",
    "    key, value = yield\n",
    "    old_key, values = key, []\n",
    "    while True:\n",
    "        # Store the previous value so we can store it in the list\n",
    "        old_value = value\n",
    "        if key == old_key:\n",
    "            key, value = yield\n",
    "        else:\n",
    "            key, value = yield old_key, values\n",
    "            old_key, values = key, []\n",
    "        values.append(old_value)"
   ]
  },
  {
   "cell_type": "code",
   "execution_count": 633,
   "metadata": {},
   "outputs": [
    {
     "data": {
      "text/plain": [
       "<generator object groupby at 0x7f33a6d322f0>"
      ]
     },
     "execution_count": 633,
     "metadata": {},
     "output_type": "execute_result"
    }
   ],
   "source": [
    "grouper = groupby()\n",
    "grouper"
   ]
  },
  {
   "cell_type": "code",
   "execution_count": 634,
   "metadata": {},
   "outputs": [
    {
     "data": {
      "text/plain": [
       "('a', [1, 2, 3])"
      ]
     },
     "execution_count": 634,
     "metadata": {},
     "output_type": "execute_result"
    }
   ],
   "source": [
    "grouper.send(('a', 1))\n",
    "grouper.send(('a', 2))\n",
    "grouper.send(('a', 3))\n",
    "grouper.send((None, None))"
   ]
  },
  {
   "cell_type": "code",
   "execution_count": 635,
   "metadata": {},
   "outputs": [
    {
     "data": {
      "text/plain": [
       "('b', [None, 1, 2])"
      ]
     },
     "execution_count": 635,
     "metadata": {},
     "output_type": "execute_result"
    }
   ],
   "source": [
    "grouper.send(('b', 1))\n",
    "grouper.send(('b', 2))\n",
    "grouper.send(('a', 1))"
   ]
  },
  {
   "cell_type": "code",
   "execution_count": 636,
   "metadata": {},
   "outputs": [],
   "source": [
    "grouper.send(('a', 2))"
   ]
  },
  {
   "cell_type": "code",
   "execution_count": 637,
   "metadata": {},
   "outputs": [
    {
     "data": {
      "text/plain": [
       "('a', [1, 2])"
      ]
     },
     "execution_count": 637,
     "metadata": {},
     "output_type": "execute_result"
    }
   ],
   "source": [
    "grouper.send((None, None))"
   ]
  },
  {
   "cell_type": "code",
   "execution_count": 639,
   "metadata": {},
   "outputs": [],
   "source": [
    "@coroutine\n",
    "def groupby(target):\n",
    "    old_key = None\n",
    "    while True:\n",
    "        key, value = yield\n",
    "        if old_key != key:\n",
    "            # A different key means a new group so send the previous group and restart the cycle.\n",
    "            if old_key and values:\n",
    "                target.send((old_key, values))\n",
    "            values = []\n",
    "            old_key = key\n",
    "        values.append(value)"
   ]
  },
  {
   "cell_type": "code",
   "execution_count": 640,
   "metadata": {},
   "outputs": [],
   "source": [
    "grouper = groupby(print_('group: %s, values: %s'))"
   ]
  },
  {
   "cell_type": "code",
   "execution_count": 641,
   "metadata": {},
   "outputs": [
    {
     "name": "stdout",
     "output_type": "stream",
     "text": [
      "group: a, values: [1, 2, 3]\n"
     ]
    }
   ],
   "source": [
    "grouper.send(('a', 1))\n",
    "grouper.send(('a', 2))\n",
    "grouper.send(('a', 3))\n",
    "grouper.send(('b', 1))"
   ]
  },
  {
   "cell_type": "code",
   "execution_count": 642,
   "metadata": {},
   "outputs": [
    {
     "name": "stdout",
     "output_type": "stream",
     "text": [
      "group: b, values: [1, 2]\n"
     ]
    }
   ],
   "source": [
    "grouper.send(('b', 2))\n",
    "grouper.send(('a', 1))"
   ]
  },
  {
   "cell_type": "code",
   "execution_count": 643,
   "metadata": {},
   "outputs": [
    {
     "name": "stdout",
     "output_type": "stream",
     "text": [
      "group: a, values: [1, 2]\n"
     ]
    }
   ],
   "source": [
    "grouper.send(('a', 2))\n",
    "grouper.send((None, None))"
   ]
  }
 ],
 "metadata": {
  "kernelspec": {
   "display_name": "data-science-k2Ak_Bao",
   "language": "python",
   "name": "python3"
  },
  "language_info": {
   "codemirror_mode": {
    "name": "ipython",
    "version": 3
   },
   "file_extension": ".py",
   "mimetype": "text/x-python",
   "name": "python",
   "nbconvert_exporter": "python",
   "pygments_lexer": "ipython3",
   "version": "3.11.4"
  },
  "orig_nbformat": 4
 },
 "nbformat": 4,
 "nbformat_minor": 2
}
