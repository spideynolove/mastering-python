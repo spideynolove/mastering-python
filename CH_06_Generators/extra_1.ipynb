{
 "cells": [
  {
   "cell_type": "markdown",
   "metadata": {},
   "source": [
    "#### Creating a Custom Context Manager with `contextlib.contextmanager`"
   ]
  },
  {
   "cell_type": "code",
   "execution_count": 3,
   "metadata": {},
   "outputs": [
    {
     "name": "stdout",
     "output_type": "stream",
     "text": [
      "Elapsed time: 0.0468 seconds\n"
     ]
    }
   ],
   "source": [
    "from contextlib import contextmanager\n",
    "import time\n",
    "\n",
    "@contextmanager\n",
    "def timing():\n",
    "    start_time = time.time()\n",
    "    yield\n",
    "    end_time = time.time()\n",
    "    elapsed_time = end_time - start_time\n",
    "    print(f\"Elapsed time: {elapsed_time:.4f} seconds\")\n",
    "\n",
    "# Usage of the custom context manager\n",
    "with timing():\n",
    "    # Code block to measure execution time\n",
    "    for _ in range(1000000):\n",
    "        pass"
   ]
  },
  {
   "cell_type": "markdown",
   "metadata": {},
   "source": [
    "#### Chaining Context Managers with `contextlib.ExitStack`"
   ]
  },
  {
   "cell_type": "code",
   "execution_count": 4,
   "metadata": {},
   "outputs": [
    {
     "name": "stdout",
     "output_type": "stream",
     "text": [
      "Dollar-cost averaging (DCA) is an investment strategy where you invest a fixed amount of money at regular intervals, regardless of the asset's price. This approach aims to reduce the impact of market volatility on your investment and potentially lower the average cost per unit over time. It's often used with assets like stocks or cryptocurrencies.\n",
      "\n",
      "### Dollar Cost Averaging with Crypto: A Child-Friendly Strategy\n",
      "\n",
      "Imagine you have $100 to invest in Bitcoin every month. Here's how dollar-cost averaging would work:\n",
      "\n",
      "#### Steps:\n",
      "1. **Setting up the Strategy**: Decide to invest $100 in Bitcoin every month, no matter the price.\n",
      "\n",
      "2. **Month 1**: Bitcoin is $10,000 per coin.\n",
      "   - With your $100, you buy 0.01 Bitcoin ($100 ÷ $10,000).\n",
      "   - You now own 0.01 Bitcoin.\n",
      "\n",
      "3. **Month 2**: Bitcoin price dropped to $8,000.\n",
      "   - With your $100, you buy 0.0125 Bitcoin ($100 ÷ $8,000).\n",
      "   - You now own a total of 0.0225 Bitcoin (0.01 + 0.0125).\n",
      "\n",
      "4. **Month 3**: Bitcoin price increased to $12,000.\n",
      "   - With your $100, you buy 0.0083 Bitcoin ($100 ÷ $12,000).\n",
      "   - You now own a total of 0.0308 Bitcoin (0.0225 + 0.0083).\n",
      "\n",
      "#### Explanation for a Child:\n",
      "- **Imagine Buying Toys**: You want to buy a toy every month, no matter its price.\n",
      "  \n",
      "- **Toy Prices Change**:\n",
      "  - January: Toy costs $10.\n",
      "  - February: Toy costs $8.\n",
      "  - March: Toy costs $12.\n",
      "\n",
      "- **With DCA**:\n",
      "  - January: You buy 10 toy parts for $10 (1 toy part each).\n",
      "  - February: You buy 12.5 toy parts for $10 (1.25 toy parts each).\n",
      "  - March: You buy 8.3 toy parts for $10 (0.83 toy parts each).\n",
      "\n",
      "- **Total Toy Parts Owned**:\n",
      "  - January: 10 toy parts.\n",
      "  - February: 22.5 toy parts (10 + 12.5).\n",
      "  - March: 30.8 toy parts (22.5 + 8.3).\n",
      "\n",
      "#### Why This Strategy?\n",
      "- **Buying Low and High**: You buy more toys when they're cheaper ($8) and fewer when they're pricier ($12).\n",
      "  \n",
      "- **Average Cost**: Even though toy prices changed, the average price per toy part is less than $10. This means you got a good deal overall.\n",
      "\n",
      "- **Less Stress**: You don't worry too much about if the toy price goes up or down. You just buy your $10 worth each month.\n",
      "\n",
      "This simple analogy explains dollar-cost averaging with crypto (or any investment) in a way that even a child can understand. The key is consistency: buying a fixed amount regularly to even out the highs and lows in the market.\n",
      "---------------------------------\n",
      "If you're looking to withdraw money from PayPal to your bank account with lower fees and better exchange rates, here are some alternatives you might consider:\n",
      "\n",
      "### 1. TransferWise (Wise)\n",
      "TransferWise (now called Wise) is known for offering competitive exchange rates and lower fees compared to traditional banks. You can set up a TransferWise borderless account and link it to your PayPal account. Here's how it works:\n",
      "\n",
      "- Link your local bank account to TransferWise.\n",
      "- Transfer money from PayPal to your TransferWise account (like you would transfer to a regular bank account).\n",
      "- Convert currency within TransferWise (if needed) using their competitive rates.\n",
      "- Withdraw to your local bank account with lower fees.\n",
      "\n",
      "### 2. Payoneer\n",
      "Payoneer is another service that provides you with a virtual US bank account. You can link this US bank account to your PayPal account and then withdraw funds to Payoneer. Here's the process:\n",
      "\n",
      "- Set up a Payoneer account and get your US bank account details.\n",
      "- Link your Payoneer US bank account to your PayPal account.\n",
      "- Transfer money from PayPal to your Payoneer account.\n",
      "- Withdraw to your local bank account with lower fees.\n",
      "\n",
      "### 3. Skrill\n",
      "Skrill offers similar services to PayPal and can be used as an intermediary to withdraw funds with lower fees. Here's how:\n",
      "\n",
      "- Create a Skrill account.\n",
      "- Link your Skrill account to your local bank account.\n",
      "- Transfer money from PayPal to Skrill.\n",
      "- Withdraw to your local bank account with lower fees.\n",
      "\n",
      "### 4. Revolut\n",
      "Revolut is a digital banking alternative that provides a multi-currency account. You can link your Revolut account to PayPal and transfer funds with better exchange rates. The process is similar:\n",
      "\n",
      "- Create a Revolut account and get your account details.\n",
      "- Link your Revolut account to your PayPal account.\n",
      "- Transfer money from PayPal to Revolut.\n",
      "- Convert currency within Revolut (if needed).\n",
      "- Withdraw to your local bank account with lower fees.\n",
      "\n",
      "### Things to Consider\n",
      "- **Exchange Rates**: Compare the exchange rates offered by these services to find the best one for your currency.\n",
      "  \n",
      "- **Fees**: While these alternatives generally have lower fees, make sure to check their fee structures to avoid surprises.\n",
      "  \n",
      "- **Verification**: Some of these services might require verification steps, especially for larger transactions.\n",
      "\n",
      "Always check the current rates and fees on these platforms as they may change. It's also a good idea to consider the speed of transactions, especially if you need the money quickly.\n",
      "---------------------------------\n",
      "Alright, let's imagine we're talking about toy cars instead of computer stuff. Imagine you have two toy cars that look exactly the same. One car is in your bedroom, and the other is in your friend's bedroom. Even though they're the same toy, they are in different places.\n",
      "\n",
      "Now, let's talk about computers. In computer land, there are different places where the computer keeps its toys, like the toy cars. One of these places is called \"bin,\" and the other is called \"usr/bin.\"\n",
      "\n",
      "So, \"bin/python3\" and \"usr/bin/python3\" are like the two toy cars in different bedrooms. They are both the same computer program, but they're in different places inside the computer. Just like how your toy cars are the same, but one is in your room and the other is in your friend's room.\n",
      "\n",
      "When you want to use the \"python3\" toy car, you need to know where it is. If you want to play with the one in your room, you'd say \"bin/python3,\" and if you want to play with the one in your friend's room, you'd say \"usr/bin/python3.\" They're both the same toy car, just in different spots.\n",
      "---------------------------------\n"
     ]
    }
   ],
   "source": [
    "from contextlib import ExitStack\n",
    "\n",
    "def process_file(file_name):\n",
    "    with open(file_name, 'r') as file:\n",
    "        return file.read()\n",
    "\n",
    "files_to_process = ['file1.txt', 'file2.txt', 'file3.txt']\n",
    "\n",
    "with ExitStack() as stack:\n",
    "    file_handles = [stack.enter_context(open(file, 'r')) for file in files_to_process]\n",
    "    for file_handle in file_handles:\n",
    "        data = file_handle.read()\n",
    "        # Process data here\n",
    "        print(data)\n",
    "        print(\"---------------------------------\")"
   ]
  },
  {
   "cell_type": "markdown",
   "metadata": {},
   "source": [
    "#### Combining Generators and Context Managers for Resource Management"
   ]
  },
  {
   "cell_type": "code",
   "execution_count": 6,
   "metadata": {},
   "outputs": [
    {
     "name": "stdout",
     "output_type": "stream",
     "text": [
      "Sure! Let's explain the concept of equal weight portfolios and when rebalancing is done in simple terms.\n",
      "\n",
      "### Equal Weight Portfolios\n",
      "\n",
      "Imagine you have a bunch of different toys, each with its own value. You want to make a fair playground where all toys are equally important. This is like creating an equal weight portfolio.\n",
      "\n",
      "- **Equal Weight**: In an equal weight portfolio, you give each toy the same importance. If you have 5 toys, each one gets 20% of the playground.\n",
      "\n",
      "- **Example**: Let's say you have toys A, B, C, D, and E. In an equal weight portfolio, if you have $100 to invest, you put $20 on each toy.\n",
      "\n",
      "- **Rebalancing**: As time goes on, some toys might become more popular or valuable (grow in price), while others might become less popular. Rebalancing means adjusting the playground to keep the toys at their equal 20% shares.\n",
      "\n",
      "### Rebalancing the Portfolio\n",
      "\n",
      "- **When to Rebalance**: Rebalancing is done at specific times, like every month, every quarter (every 3 months), or every year. It depends on the plan you set up.\n",
      "\n",
      "- **Example**: If toy A becomes very popular and now takes up 30% of the playground, you rebalance by selling some of toy A to bring it back to 20%. Then you use that money to buy more of the other toys to make them all equal again.\n",
      "\n",
      "- **Advantages**:\n",
      "\n",
      "1. **Diversification**: By investing equally in different toys (assets), you spread the risk. If one toy does poorly, it won't ruin the whole playground.\n",
      "\n",
      "2. **Simplicity**: It's easy to understand and manage. You just need to make sure each toy gets its fair share.\n",
      "\n",
      "3. **Automatic Buy Low, Sell High**: When you rebalance, you're automatically selling the toys that have become more popular (higher price) and buying the ones that are less popular (lower price). This is like selling the toys that are now expensive and buying the ones that are on sale!\n",
      "\n",
      "So, in simple terms, an equal weight portfolio is like making a playground where all toys are equally important. Rebalancing is like adjusting the playground regularly to keep the toys' shares equal. This method helps spread risk, is easy to manage, and can automatically buy low and sell high!\n"
     ]
    }
   ],
   "source": [
    "from contextlib import contextmanager\n",
    "\n",
    "@contextmanager\n",
    "def file_reader(file_name):\n",
    "    try:\n",
    "        with open(file_name, 'r') as file:\n",
    "            yield file\n",
    "    except FileNotFoundError:\n",
    "        yield None\n",
    "\n",
    "def process_lines(file_name):\n",
    "    with file_reader(file_name) as file:\n",
    "        if file:\n",
    "            for line in file:\n",
    "                # Process each line\n",
    "                print(line.strip())\n",
    "\n",
    "process_lines('sample.txt')"
   ]
  }
 ],
 "metadata": {
  "kernelspec": {
   "display_name": "Artificial-Intelligence-with-Python-b-dnIHpW",
   "language": "python",
   "name": "python3"
  },
  "language_info": {
   "codemirror_mode": {
    "name": "ipython",
    "version": 3
   },
   "file_extension": ".py",
   "mimetype": "text/x-python",
   "name": "python",
   "nbconvert_exporter": "python",
   "pygments_lexer": "ipython3",
   "version": "3.8.18"
  }
 },
 "nbformat": 4,
 "nbformat_minor": 2
}
