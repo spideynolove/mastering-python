{
 "cells": [
  {
   "cell_type": "code",
   "execution_count": 44,
   "metadata": {},
   "outputs": [],
   "source": [
    "import collections\n",
    "import itertools"
   ]
  },
  {
   "cell_type": "code",
   "execution_count": 45,
   "metadata": {},
   "outputs": [],
   "source": [
    "class Field(object):\n",
    "    counter = itertools.count()\n",
    "    def __init__(self, name=None):\n",
    "        self.name = name\n",
    "        self.index = next(Field.counter)\n",
    "    def __repr__(self):\n",
    "        return '<%s[%d] %s>' % (\n",
    "            self.__class__.__name__,\n",
    "            self.index,\n",
    "            self.name,\n",
    "        )"
   ]
  },
  {
   "cell_type": "code",
   "execution_count": 46,
   "metadata": {},
   "outputs": [],
   "source": [
    "class FieldsMeta(type):\n",
    "    def __new__(metaclass, name, bases, namespace):\n",
    "        cls = type.__new__(metaclass, name, bases, namespace)\n",
    "        fields = []\n",
    "        for k, v in namespace.items():\n",
    "            if isinstance(v, Field):\n",
    "                fields.append(v)\n",
    "                v.name = v.name or k\n",
    "        cls.fields = sorted(fields, key=lambda f: f.index)\n",
    "        return cls"
   ]
  },
  {
   "cell_type": "code",
   "execution_count": 47,
   "metadata": {},
   "outputs": [],
   "source": [
    "class Fields(metaclass=FieldsMeta):\n",
    "    spam = Field()\n",
    "    eggs = Field()\n",
    "    shits = Field()\n",
    "    dung = Field()"
   ]
  },
  {
   "cell_type": "code",
   "execution_count": 48,
   "metadata": {},
   "outputs": [
    {
     "data": {
      "text/plain": [
       "[<Field[0] spam>, <Field[1] eggs>, <Field[2] shits>, <Field[3] dung>]"
      ]
     },
     "execution_count": 48,
     "metadata": {},
     "output_type": "execute_result"
    }
   ],
   "source": [
    "Fields.fields"
   ]
  },
  {
   "cell_type": "code",
   "execution_count": 49,
   "metadata": {},
   "outputs": [
    {
     "data": {
      "text/plain": [
       "(1, 2)"
      ]
     },
     "execution_count": 49,
     "metadata": {},
     "output_type": "execute_result"
    }
   ],
   "source": [
    "fields = Fields()\n",
    "fields.eggs.index, fields.shits.index"
   ]
  },
  {
   "cell_type": "code",
   "execution_count": 50,
   "metadata": {},
   "outputs": [
    {
     "data": {
      "text/plain": [
       "(0, 3)"
      ]
     },
     "execution_count": 50,
     "metadata": {},
     "output_type": "execute_result"
    }
   ],
   "source": [
    "fields.spam.index, fields.dung.index"
   ]
  },
  {
   "cell_type": "code",
   "execution_count": 51,
   "metadata": {},
   "outputs": [
    {
     "data": {
      "text/plain": [
       "[<Field[0] spam>, <Field[1] eggs>, <Field[2] shits>, <Field[3] dung>]"
      ]
     },
     "execution_count": 51,
     "metadata": {},
     "output_type": "execute_result"
    }
   ],
   "source": [
    "fields.fields"
   ]
  },
  {
   "cell_type": "code",
   "execution_count": 52,
   "metadata": {},
   "outputs": [],
   "source": [
    "class Field(object):\n",
    "    def __init__(self, name=None):\n",
    "        self.name = name\n",
    "    def __repr__(self):\n",
    "        return '<%s %s>' % (\n",
    "            self.__class__.__name__,\n",
    "            self.name,\n",
    "        )\n"
   ]
  },
  {
   "cell_type": "code",
   "execution_count": 53,
   "metadata": {},
   "outputs": [],
   "source": [
    "class FieldsMeta(type):\n",
    "    @classmethod\n",
    "    def __prepare__(metaclass, name, bases):\n",
    "        return collections.OrderedDict()\n",
    "    def __new__(metaclass, name, bases, namespace):\n",
    "        cls = type.__new__(metaclass, name, bases, namespace)\n",
    "        cls.fields = []\n",
    "        for k, v in namespace.items():\n",
    "            if isinstance(v, Field):\n",
    "                cls.fields.append(v)\n",
    "                v.name = v.name or k\n",
    "        return cls"
   ]
  },
  {
   "cell_type": "code",
   "execution_count": 54,
   "metadata": {},
   "outputs": [],
   "source": [
    "class Fields(metaclass=FieldsMeta):\n",
    "    spam = Field()\n",
    "    eggs = Field()\n",
    "    shits = Field()"
   ]
  },
  {
   "cell_type": "code",
   "execution_count": 55,
   "metadata": {},
   "outputs": [
    {
     "data": {
      "text/plain": [
       "[<Field spam>, <Field eggs>, <Field shits>]"
      ]
     },
     "execution_count": 55,
     "metadata": {},
     "output_type": "execute_result"
    }
   ],
   "source": [
    "Fields.fields"
   ]
  },
  {
   "cell_type": "code",
   "execution_count": 56,
   "metadata": {},
   "outputs": [],
   "source": [
    "fields = Fields()"
   ]
  },
  {
   "cell_type": "code",
   "execution_count": 57,
   "metadata": {},
   "outputs": [
    {
     "data": {
      "text/plain": [
       "[<Field spam>, <Field eggs>, <Field shits>]"
      ]
     },
     "execution_count": 57,
     "metadata": {},
     "output_type": "execute_result"
    }
   ],
   "source": [
    "fields.fields"
   ]
  }
 ],
 "metadata": {
  "kernelspec": {
   "display_name": "crawlers-m4c6Owzx",
   "language": "python",
   "name": "python3"
  },
  "language_info": {
   "codemirror_mode": {
    "name": "ipython",
    "version": 3
   },
   "file_extension": ".py",
   "mimetype": "text/x-python",
   "name": "python",
   "nbconvert_exporter": "python",
   "pygments_lexer": "ipython3",
   "version": "3.10.13"
  }
 },
 "nbformat": 4,
 "nbformat_minor": 2
}
