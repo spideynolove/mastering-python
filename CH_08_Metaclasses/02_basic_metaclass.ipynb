{
 "cells": [
  {
   "cell_type": "code",
   "execution_count": 14,
   "metadata": {},
   "outputs": [],
   "source": [
    "# The metaclass definition, note the inheritance of type instead of object\n",
    "class MetaSpam(type):\n",
    "    # Notice how the __new__ method has the same arguments as the type function we used earlier?\n",
    "    def __new__(metaclass, name, bases, namespace):\n",
    "        name = 'SpamCreatedByMeta'\n",
    "        bases = (int,) + bases  # wtf\n",
    "        namespace['eggs'] = 1\n",
    "        return type.__new__(metaclass, name, bases, namespace)"
   ]
  },
  {
   "cell_type": "code",
   "execution_count": 15,
   "metadata": {},
   "outputs": [],
   "source": [
    "# First, the regular Spam:\n",
    "class Spam(object):\n",
    "    pass"
   ]
  },
  {
   "cell_type": "code",
   "execution_count": 16,
   "metadata": {},
   "outputs": [
    {
     "name": "stdout",
     "output_type": "stream",
     "text": [
      "Spam\n"
     ]
    }
   ],
   "source": [
    "print(Spam.__name__)"
   ]
  },
  {
   "cell_type": "code",
   "execution_count": 17,
   "metadata": {},
   "outputs": [
    {
     "name": "stdout",
     "output_type": "stream",
     "text": [
      "False\n"
     ]
    }
   ],
   "source": [
    "print(issubclass(Spam, int))"
   ]
  },
  {
   "cell_type": "code",
   "execution_count": 18,
   "metadata": {},
   "outputs": [
    {
     "ename": "AttributeError",
     "evalue": "type object 'Spam' has no attribute 'eggs'",
     "output_type": "error",
     "traceback": [
      "\u001b[0;31m---------------------------------------------------------------------------\u001b[0m",
      "\u001b[0;31mAttributeError\u001b[0m                            Traceback (most recent call last)",
      "Cell \u001b[0;32mIn[18], line 1\u001b[0m\n\u001b[0;32m----> 1\u001b[0m \u001b[38;5;28mprint\u001b[39m(\u001b[43mSpam\u001b[49m\u001b[38;5;241;43m.\u001b[39;49m\u001b[43meggs\u001b[49m)\n",
      "\u001b[0;31mAttributeError\u001b[0m: type object 'Spam' has no attribute 'eggs'"
     ]
    }
   ],
   "source": [
    "print(Spam.eggs)"
   ]
  },
  {
   "cell_type": "code",
   "execution_count": 19,
   "metadata": {},
   "outputs": [],
   "source": [
    "# Now the meta-Spam\n",
    "# TypeError: multiple bases have instance lay-out conflict\n",
    "class Spam(object, metaclass=MetaSpam):\n",
    "    pass\n"
   ]
  },
  {
   "cell_type": "code",
   "execution_count": 20,
   "metadata": {},
   "outputs": [
    {
     "name": "stdout",
     "output_type": "stream",
     "text": [
      "SpamCreatedByMeta\n"
     ]
    }
   ],
   "source": [
    "print(Spam.__name__)"
   ]
  },
  {
   "cell_type": "code",
   "execution_count": 21,
   "metadata": {},
   "outputs": [
    {
     "name": "stdout",
     "output_type": "stream",
     "text": [
      "True\n"
     ]
    }
   ],
   "source": [
    "print(issubclass(Spam, int))"
   ]
  },
  {
   "cell_type": "code",
   "execution_count": 22,
   "metadata": {},
   "outputs": [
    {
     "name": "stdout",
     "output_type": "stream",
     "text": [
      "1\n"
     ]
    }
   ],
   "source": [
    "print(Spam.eggs)"
   ]
  }
 ],
 "metadata": {
  "kernelspec": {
   "display_name": "crawlers-m4c6Owzx",
   "language": "python",
   "name": "python3"
  },
  "language_info": {
   "codemirror_mode": {
    "name": "ipython",
    "version": 3
   },
   "file_extension": ".py",
   "mimetype": "text/x-python",
   "name": "python",
   "nbconvert_exporter": "python",
   "pygments_lexer": "ipython3",
   "version": "3.10.13"
  }
 },
 "nbformat": 4,
 "nbformat_minor": 2
}
