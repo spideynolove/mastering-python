{
 "cells": [
  {
   "cell_type": "code",
   "execution_count": 25,
   "metadata": {},
   "outputs": [],
   "source": [
    "class MetaWithArguments(type):\n",
    "    def __init__(metaclass, name, bases, namespace, **kwargs):\n",
    "        # The kwargs should not be passed on to the type.__init__\n",
    "        type.__init__(metaclass, name, bases, namespace)\n",
    "\n",
    "    def __new__(metaclass, name, bases, namespace, **kwargs):\n",
    "        for k, v in kwargs.items():\n",
    "            print(k,v)\n",
    "            namespace.setdefault(k, v)\n",
    "        return type.__new__(metaclass, name, bases, namespace)"
   ]
  },
  {
   "cell_type": "code",
   "execution_count": 26,
   "metadata": {},
   "outputs": [
    {
     "name": "stdout",
     "output_type": "stream",
     "text": [
      "spam eggs\n"
     ]
    }
   ],
   "source": [
    "class WithArgument(metaclass=MetaWithArguments, spam='eggs'):\n",
    "    pass"
   ]
  },
  {
   "cell_type": "code",
   "execution_count": 27,
   "metadata": {},
   "outputs": [
    {
     "name": "stdout",
     "output_type": "stream",
     "text": [
      "eggs\n"
     ]
    }
   ],
   "source": [
    "with_argument = WithArgument()\n",
    "print(with_argument.spam)"
   ]
  }
 ],
 "metadata": {
  "kernelspec": {
   "display_name": "crawlers-m4c6Owzx",
   "language": "python",
   "name": "python3"
  },
  "language_info": {
   "codemirror_mode": {
    "name": "ipython",
    "version": 3
   },
   "file_extension": ".py",
   "mimetype": "text/x-python",
   "name": "python",
   "nbconvert_exporter": "python",
   "pygments_lexer": "ipython3",
   "version": "3.10.13"
  }
 },
 "nbformat": 4,
 "nbformat_minor": 2
}
