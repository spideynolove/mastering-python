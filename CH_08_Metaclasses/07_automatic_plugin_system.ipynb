{
 "cells": [
  {
   "cell_type": "code",
   "execution_count": 17,
   "metadata": {},
   "outputs": [],
   "source": [
    "import abc\n",
    "from pprint import pprint"
   ]
  },
  {
   "cell_type": "code",
   "execution_count": 18,
   "metadata": {},
   "outputs": [],
   "source": [
    "class Plugins(abc.ABCMeta):\n",
    "    plugins = dict()\n",
    "\n",
    "    def __new__(metaclass, name, bases, namespace):\n",
    "        cls = abc.ABCMeta.__new__(metaclass, name, bases, namespace)\n",
    "        if isinstance(cls.name, str):\n",
    "            metaclass.plugins[cls.name] = cls\n",
    "        return cls\n",
    "\n",
    "    @classmethod\n",
    "    def get(cls, name):\n",
    "        return cls.plugins[name]"
   ]
  },
  {
   "cell_type": "code",
   "execution_count": 19,
   "metadata": {},
   "outputs": [],
   "source": [
    "class PluginBase(metaclass=Plugins):\n",
    "    @property\n",
    "    @abc.abstractmethod\n",
    "    def name(self):\n",
    "        raise NotImplemented()\n",
    "    \n",
    "    def game(self):\n",
    "        print(f\"Playing {self.name}\")"
   ]
  },
  {
   "cell_type": "code",
   "execution_count": 20,
   "metadata": {},
   "outputs": [],
   "source": [
    "class SpamPlugin(PluginBase):\n",
    "    name = 'spam'\n",
    "\n",
    "\n",
    "class EggsPlugin(PluginBase):\n",
    "    name = 'eggs'\n",
    "\n",
    "\n",
    "class ShitPlugin(PluginBase):\n",
    "    name = 'shits'\n",
    "    game = \"shits game\""
   ]
  },
  {
   "cell_type": "code",
   "execution_count": 21,
   "metadata": {},
   "outputs": [
    {
     "data": {
      "text/plain": [
       "__main__.SpamPlugin"
      ]
     },
     "execution_count": 21,
     "metadata": {},
     "output_type": "execute_result"
    }
   ],
   "source": [
    "Plugins.get('spam')"
   ]
  },
  {
   "cell_type": "code",
   "execution_count": 22,
   "metadata": {},
   "outputs": [
    {
     "name": "stdout",
     "output_type": "stream",
     "text": [
      "{'eggs': <class '__main__.EggsPlugin'>,\n",
      " 'shits': <class '__main__.ShitPlugin'>,\n",
      " 'spam': <class '__main__.SpamPlugin'>}\n"
     ]
    }
   ],
   "source": [
    "pprint(Plugins.plugins)"
   ]
  }
 ],
 "metadata": {
  "kernelspec": {
   "display_name": "crawlers-m4c6Owzx",
   "language": "python",
   "name": "python3"
  },
  "language_info": {
   "codemirror_mode": {
    "name": "ipython",
    "version": 3
   },
   "file_extension": ".py",
   "mimetype": "text/x-python",
   "name": "python",
   "nbconvert_exporter": "python",
   "pygments_lexer": "ipython3",
   "version": "3.10.13"
  }
 },
 "nbformat": 4,
 "nbformat_minor": 2
}
