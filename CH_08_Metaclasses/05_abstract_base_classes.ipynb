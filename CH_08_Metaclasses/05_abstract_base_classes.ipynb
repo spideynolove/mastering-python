{
 "cells": [
  {
   "cell_type": "code",
   "execution_count": 1,
   "metadata": {},
   "outputs": [],
   "source": [
    "import functools\n",
    "import abc"
   ]
  },
  {
   "cell_type": "code",
   "execution_count": 2,
   "metadata": {},
   "outputs": [],
   "source": [
    "class Spam(metaclass=abc.ABCMeta):\n",
    "\n",
    "    @abc.abstractmethod\n",
    "    def some_method(self):\n",
    "        raise NotImplemented()\n",
    "\n",
    "\n",
    "class Eggs(Spam):\n",
    "    def some_new_method(self):\n",
    "        pass"
   ]
  },
  {
   "cell_type": "code",
   "execution_count": 3,
   "metadata": {},
   "outputs": [
    {
     "ename": "TypeError",
     "evalue": "Can't instantiate abstract class Eggs with abstract method some_method",
     "output_type": "error",
     "traceback": [
      "\u001b[0;31m---------------------------------------------------------------------------\u001b[0m",
      "\u001b[0;31mTypeError\u001b[0m                                 Traceback (most recent call last)",
      "Cell \u001b[0;32mIn[3], line 1\u001b[0m\n\u001b[0;32m----> 1\u001b[0m eggs \u001b[38;5;241m=\u001b[39m \u001b[43mEggs\u001b[49m\u001b[43m(\u001b[49m\u001b[43m)\u001b[49m\n",
      "\u001b[0;31mTypeError\u001b[0m: Can't instantiate abstract class Eggs with abstract method some_method"
     ]
    }
   ],
   "source": [
    "eggs = Eggs()"
   ]
  },
  {
   "cell_type": "code",
   "execution_count": 4,
   "metadata": {},
   "outputs": [],
   "source": [
    "class Bacon(Spam):\n",
    "    def some_method():\n",
    "        pass"
   ]
  },
  {
   "cell_type": "code",
   "execution_count": 5,
   "metadata": {},
   "outputs": [],
   "source": [
    "bacon = Bacon()"
   ]
  },
  {
   "cell_type": "code",
   "execution_count": 6,
   "metadata": {},
   "outputs": [],
   "source": [
    "class Spam(object, metaclass=abc.ABCMeta):\n",
    "    @property\n",
    "    @abc.abstractmethod\n",
    "    def some_property(self):\n",
    "        raise NotImplemented()\n",
    "\n",
    "    @classmethod\n",
    "    @abc.abstractmethod\n",
    "    def some_classmethod(cls):\n",
    "        raise NotImplemented()\n",
    "\n",
    "    @staticmethod\n",
    "    @abc.abstractmethod\n",
    "    def some_staticmethod():\n",
    "        raise NotImplemented()\n",
    "\n",
    "    @abc.abstractmethod\n",
    "    def some_method():\n",
    "        raise NotImplemented()"
   ]
  },
  {
   "cell_type": "code",
   "execution_count": 7,
   "metadata": {},
   "outputs": [],
   "source": [
    "class AbstractMeta(type):\n",
    "    def __new__(metaclass, name, bases, namespace):\n",
    "        cls = super().__new__(metaclass, name, bases, namespace)\n",
    "        cls.__abstractmethods__ = frozenset(('something',))\n",
    "        return cls\n",
    "\n",
    "\n",
    "class Spam(metaclass=AbstractMeta):\n",
    "    pass"
   ]
  },
  {
   "cell_type": "code",
   "execution_count": 9,
   "metadata": {},
   "outputs": [
    {
     "ename": "TypeError",
     "evalue": "Can't instantiate abstract class Spam with abstract method something",
     "output_type": "error",
     "traceback": [
      "\u001b[0;31m---------------------------------------------------------------------------\u001b[0m",
      "\u001b[0;31mTypeError\u001b[0m                                 Traceback (most recent call last)",
      "Cell \u001b[0;32mIn[9], line 1\u001b[0m\n\u001b[0;32m----> 1\u001b[0m eggs \u001b[38;5;241m=\u001b[39m \u001b[43mSpam\u001b[49m\u001b[43m(\u001b[49m\u001b[43m)\u001b[49m\n",
      "\u001b[0;31mTypeError\u001b[0m: Can't instantiate abstract class Spam with abstract method something"
     ]
    }
   ],
   "source": [
    "eggs = Spam()"
   ]
  },
  {
   "cell_type": "code",
   "execution_count": 14,
   "metadata": {},
   "outputs": [],
   "source": [
    "class AbstractMeta(type):\n",
    "    def __new__(metaclass, name, bases, namespace):\n",
    "        # Create the class instance\n",
    "        cls = super().__new__(metaclass, name, bases, namespace)\n",
    "\n",
    "        # Collect all local methods marked as abstract\n",
    "        abstracts = set()\n",
    "        for k, v in namespace.items():\n",
    "            if getattr(v, '__abstract__', False):\n",
    "                abstracts.add(k)\n",
    "\n",
    "        # Look for abstract methods in the base classes and add them to the list of abstracts\n",
    "        for base in bases:\n",
    "            for k in getattr(base, '__abstracts__', ()):\n",
    "                v = getattr(cls, k, None)\n",
    "                if getattr(v, '__abstract__', False):\n",
    "                    abstracts.add(k)\n",
    "\n",
    "        # store the abstracts in a frozenset so they cannot be modified\n",
    "        cls.__abstracts__ = frozenset(abstracts)\n",
    "\n",
    "        # Decorate the __new__ function to check if all abstract functions were implemented\n",
    "        original_new = cls.__new__\n",
    "\n",
    "        @functools.wraps(original_new)\n",
    "        def new(self, *args, **kwargs):\n",
    "            for k in self.__abstracts__:\n",
    "                v = getattr(self, k)\n",
    "                if getattr(v, '__abstract__', False):\n",
    "                    raise RuntimeError(\n",
    "                        '%r is not implemented' % k)\n",
    "\n",
    "            return original_new(self, *args, **kwargs)\n",
    "\n",
    "        cls.__new__ = new\n",
    "        return cls\n",
    "\n",
    "\n",
    "def abstractmethod(function):\n",
    "    function.__abstract__ = True\n",
    "    return function\n",
    "\n",
    "\n",
    "class Spam(metaclass=AbstractMeta):\n",
    "    @abstractmethod\n",
    "    def some_method(self):\n",
    "        # pass\n",
    "        # return \"shit\"\n",
    "        raise NotImplemented()"
   ]
  },
  {
   "cell_type": "code",
   "execution_count": 15,
   "metadata": {},
   "outputs": [
    {
     "ename": "RuntimeError",
     "evalue": "'some_method' is not implemented",
     "output_type": "error",
     "traceback": [
      "\u001b[0;31m---------------------------------------------------------------------------\u001b[0m",
      "\u001b[0;31mRuntimeError\u001b[0m                              Traceback (most recent call last)",
      "Cell \u001b[0;32mIn[15], line 1\u001b[0m\n\u001b[0;32m----> 1\u001b[0m eggs \u001b[38;5;241m=\u001b[39m \u001b[43mSpam\u001b[49m\u001b[43m(\u001b[49m\u001b[43m)\u001b[49m\n",
      "Cell \u001b[0;32mIn[14], line 30\u001b[0m, in \u001b[0;36mAbstractMeta.__new__.<locals>.new\u001b[0;34m(self, *args, **kwargs)\u001b[0m\n\u001b[1;32m     28\u001b[0m     v \u001b[38;5;241m=\u001b[39m \u001b[38;5;28mgetattr\u001b[39m(\u001b[38;5;28mself\u001b[39m, k)\n\u001b[1;32m     29\u001b[0m     \u001b[38;5;28;01mif\u001b[39;00m \u001b[38;5;28mgetattr\u001b[39m(v, \u001b[38;5;124m'\u001b[39m\u001b[38;5;124m__abstract__\u001b[39m\u001b[38;5;124m'\u001b[39m, \u001b[38;5;28;01mFalse\u001b[39;00m):\n\u001b[0;32m---> 30\u001b[0m         \u001b[38;5;28;01mraise\u001b[39;00m \u001b[38;5;167;01mRuntimeError\u001b[39;00m(\n\u001b[1;32m     31\u001b[0m             \u001b[38;5;124m'\u001b[39m\u001b[38;5;132;01m%r\u001b[39;00m\u001b[38;5;124m is not implemented\u001b[39m\u001b[38;5;124m'\u001b[39m \u001b[38;5;241m%\u001b[39m k)\n\u001b[1;32m     33\u001b[0m \u001b[38;5;28;01mreturn\u001b[39;00m original_new(\u001b[38;5;28mself\u001b[39m, \u001b[38;5;241m*\u001b[39margs, \u001b[38;5;241m*\u001b[39m\u001b[38;5;241m*\u001b[39mkwargs)\n",
      "\u001b[0;31mRuntimeError\u001b[0m: 'some_method' is not implemented"
     ]
    }
   ],
   "source": [
    "eggs = Spam()"
   ]
  }
 ],
 "metadata": {
  "kernelspec": {
   "display_name": "crawlers-m4c6Owzx",
   "language": "python",
   "name": "python3"
  },
  "language_info": {
   "codemirror_mode": {
    "name": "ipython",
    "version": 3
   },
   "file_extension": ".py",
   "mimetype": "text/x-python",
   "name": "python",
   "nbconvert_exporter": "python",
   "pygments_lexer": "ipython3",
   "version": "3.10.13"
  }
 },
 "nbformat": 4,
 "nbformat_minor": 2
}
