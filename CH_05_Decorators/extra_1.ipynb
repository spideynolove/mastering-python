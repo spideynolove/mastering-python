{
 "cells": [
  {
   "cell_type": "code",
   "execution_count": 37,
   "metadata": {},
   "outputs": [],
   "source": [
    "from functools import wraps, update_wrapper"
   ]
  },
  {
   "cell_type": "code",
   "execution_count": 38,
   "metadata": {},
   "outputs": [
    {
     "name": "stdout",
     "output_type": "stream",
     "text": [
      "Something is happening before the function is called.\n",
      "Hello Hung!\n",
      "Something is happening after the function is called.\n"
     ]
    }
   ],
   "source": [
    "def my_decorator(func):\n",
    "    def wrapper():\n",
    "        print(\"Something is happening before the function is called.\")\n",
    "        func()\n",
    "        print(\"Something is happening after the function is called.\")\n",
    "    return wrapper\n",
    "\n",
    "@my_decorator\n",
    "def say_hello():\n",
    "    print(\"Hello Hung!\")\n",
    "\n",
    "say_hello()"
   ]
  },
  {
   "cell_type": "code",
   "execution_count": 39,
   "metadata": {},
   "outputs": [
    {
     "name": "stdout",
     "output_type": "stream",
     "text": [
      "expensive_function took 1.0003 seconds to execute.\n"
     ]
    }
   ],
   "source": [
    "import time\n",
    "\n",
    "def profile_execution_time(func):\n",
    "    def wrapper(*args, **kwargs):\n",
    "        start_time = time.time()\n",
    "        result = func(*args, **kwargs)\n",
    "        end_time = time.time()\n",
    "        print(f\"{func.__name__} took {end_time - start_time:.4f} seconds to execute.\")\n",
    "        return result\n",
    "    return wrapper\n",
    "\n",
    "@profile_execution_time\n",
    "def expensive_function():\n",
    "    # Some time-consuming task\n",
    "    time.sleep(1)\n",
    "\n",
    "expensive_function()"
   ]
  },
  {
   "cell_type": "code",
   "execution_count": 40,
   "metadata": {},
   "outputs": [
    {
     "data": {
      "text/plain": [
       "55"
      ]
     },
     "execution_count": 40,
     "metadata": {},
     "output_type": "execute_result"
    }
   ],
   "source": [
    "from functools import lru_cache\n",
    "\n",
    "@lru_cache(maxsize=None)\n",
    "def fibonacci(n):\n",
    "    if n <= 1:\n",
    "        return n\n",
    "    else:\n",
    "        return fibonacci(n-1) + fibonacci(n-2)\n",
    "\n",
    "result = fibonacci(10)  # Cached result for faster subsequent calls\n",
    "result"
   ]
  },
  {
   "cell_type": "code",
   "execution_count": 41,
   "metadata": {},
   "outputs": [
    {
     "name": "stdout",
     "output_type": "stream",
     "text": [
      "Arguments: (3, 5), Keyword arguments: {}\n"
     ]
    },
    {
     "data": {
      "text/plain": [
       "8"
      ]
     },
     "execution_count": 41,
     "metadata": {},
     "output_type": "execute_result"
    }
   ],
   "source": [
    "def arg_printer(func):\n",
    "    def wrapper(*args, **kwargs):\n",
    "        print(f\"Arguments: {args}, Keyword arguments: {kwargs}\")\n",
    "        return func(*args, **kwargs)\n",
    "    return wrapper\n",
    "\n",
    "@arg_printer\n",
    "def add(a, b):\n",
    "    return a + b\n",
    "\n",
    "result = add(3, 5)\n",
    "result"
   ]
  },
  {
   "cell_type": "code",
   "execution_count": 42,
   "metadata": {},
   "outputs": [
    {
     "name": "stdout",
     "output_type": "stream",
     "text": [
      "Hello, Alice!\n",
      "Hello, Alice!\n",
      "Hello, Alice!\n"
     ]
    }
   ],
   "source": [
    "def repeat(n):\n",
    "    def decorator(func):\n",
    "        def wrapper(*args, **kwargs):\n",
    "            # Repeat the function call `n` times\n",
    "            for _ in range(n):\n",
    "                func(*args, **kwargs)\n",
    "        return wrapper\n",
    "    return decorator\n",
    "\n",
    "\n",
    "@repeat(3)\n",
    "def greet(name):\n",
    "    print(f\"Hello, {name}!\")\n",
    "\n",
    "\n",
    "greet(\"Alice\")"
   ]
  },
  {
   "cell_type": "code",
   "execution_count": 43,
   "metadata": {},
   "outputs": [],
   "source": [
    "def my_decorator(func):\n",
    "    @wraps(func)\n",
    "    def wrapper(*args, **kwargs):\n",
    "        print(\"Before the function is called.\")\n",
    "        result = func(*args, **kwargs)\n",
    "        print(\"After the function is called.\")\n",
    "        return result\n",
    "    return wrapper\n",
    "\n",
    "\n",
    "@my_decorator\n",
    "def my_function():\n",
    "    \"\"\"This is the docstring.\"\"\"\n",
    "    print(\"Hello Hung!\")"
   ]
  },
  {
   "cell_type": "code",
   "execution_count": 44,
   "metadata": {},
   "outputs": [
    {
     "data": {
      "text/plain": [
       "'my_function'"
      ]
     },
     "execution_count": 44,
     "metadata": {},
     "output_type": "execute_result"
    }
   ],
   "source": [
    "my_function.__name__"
   ]
  },
  {
   "cell_type": "code",
   "execution_count": 45,
   "metadata": {},
   "outputs": [
    {
     "data": {
      "text/plain": [
       "'This is the docstring.'"
      ]
     },
     "execution_count": 45,
     "metadata": {},
     "output_type": "execute_result"
    }
   ],
   "source": [
    "my_function.__doc__"
   ]
  },
  {
   "cell_type": "code",
   "execution_count": 46,
   "metadata": {},
   "outputs": [
    {
     "name": "stdout",
     "output_type": "stream",
     "text": [
      "Calling my_method of MyClass with arguments: (5,), {}\n",
      "my_method of MyClass returned: 10\n"
     ]
    }
   ],
   "source": [
    "def log_class_method_calls(cls_method):\n",
    "    @wraps(cls_method)\n",
    "    def wrapper(self, *args, **kwargs):\n",
    "        print(f\"Calling {cls_method.__name__} of {self.__class__.__name__} with arguments: {args}, {kwargs}\")\n",
    "        result = cls_method(self, *args, **kwargs)\n",
    "        print(f\"{cls_method.__name__} of {self.__class__.__name__} returned: {result}\")\n",
    "        return result\n",
    "    return wrapper\n",
    "\n",
    "class MyClass:\n",
    "    @log_class_method_calls\n",
    "    def my_method(self, x):\n",
    "        return 2 * x\n",
    "\n",
    "obj = MyClass()\n",
    "result = obj.my_method(5)"
   ]
  },
  {
   "cell_type": "code",
   "execution_count": 47,
   "metadata": {},
   "outputs": [
    {
     "name": "stdout",
     "output_type": "stream",
     "text": [
      "Decorator 1 before\n",
      "Decorator 2 before\n",
      "Function\n",
      "Decorator 2 after\n",
      "Decorator 1 after\n"
     ]
    }
   ],
   "source": [
    "def decorator1(func):\n",
    "    @wraps(func)\n",
    "    def wrapper(*args, **kwargs):\n",
    "        print(\"Decorator 1 before\")\n",
    "        result = func(*args, **kwargs)\n",
    "        print(\"Decorator 1 after\")\n",
    "        return result\n",
    "    return wrapper\n",
    "\n",
    "\n",
    "def decorator2(func):\n",
    "    @wraps(func)\n",
    "    def wrapper(*args, **kwargs):\n",
    "        print(\"Decorator 2 before\")\n",
    "        result = func(*args, **kwargs)\n",
    "        print(\"Decorator 2 after\")\n",
    "        return result\n",
    "    return wrapper\n",
    "\n",
    "\n",
    "@decorator1\n",
    "@decorator2\n",
    "def my_function():\n",
    "    print(\"Function\")\n",
    "\n",
    "\n",
    "my_function()"
   ]
  },
  {
   "cell_type": "code",
   "execution_count": 48,
   "metadata": {},
   "outputs": [
    {
     "name": "stdout",
     "output_type": "stream",
     "text": [
      "complex_algorithm took 0.0574 seconds to execute.\n",
      "another_complex_function took 1.0011 seconds to execute.\n"
     ]
    }
   ],
   "source": [
    "import time\n",
    "\n",
    "\n",
    "def profile_execution_time(func):\n",
    "    @wraps(func)\n",
    "    def wrapper(*args, **kwargs):\n",
    "        start_time = time.time()\n",
    "        result = func(*args, **kwargs)\n",
    "        end_time = time.time()\n",
    "        print(f\"{func.__name__} took {end_time - start_time:.4f} seconds to execute.\")\n",
    "        return result\n",
    "    return wrapper\n",
    "\n",
    "\n",
    "# Usage example:\n",
    "@profile_execution_time\n",
    "def complex_algorithm(n):\n",
    "    \"\"\"A complex algorithm we want to profile.\"\"\"\n",
    "    result = 0\n",
    "    for i in range(n):\n",
    "        result += i\n",
    "    return result\n",
    "\n",
    "\n",
    "@profile_execution_time\n",
    "def another_complex_function():\n",
    "    \"\"\"Another complex function to profile.\"\"\"\n",
    "    time.sleep(1)\n",
    "\n",
    "\n",
    "# Calling the decorated functions\n",
    "result = complex_algorithm(1000000)\n",
    "another_complex_function()"
   ]
  },
  {
   "cell_type": "code",
   "execution_count": 49,
   "metadata": {},
   "outputs": [
    {
     "name": "stdout",
     "output_type": "stream",
     "text": [
      "Before the method is called.\n",
      "Hello from my_method!\n",
      "After the method is called.\n"
     ]
    }
   ],
   "source": [
    "def my_decorator(func):\n",
    "    def wrapper(*args, **kwargs):\n",
    "        print(\"Before the method is called.\")\n",
    "        result = func(*args, **kwargs)\n",
    "        print(\"After the method is called.\")\n",
    "        return result\n",
    "    return wrapper\n",
    "\n",
    "\n",
    "class MyClass:\n",
    "    @my_decorator\n",
    "    def my_method(self):\n",
    "        print(\"Hello from my_method!\")\n",
    "\n",
    "\n",
    "obj = MyClass()\n",
    "obj.my_method()"
   ]
  },
  {
   "cell_type": "code",
   "execution_count": 50,
   "metadata": {},
   "outputs": [
    {
     "name": "stdout",
     "output_type": "stream",
     "text": [
      "Arguments: (<__main__.Calculator object at 0x7f50a9c79990>, 3, 5), Keyword arguments: {}\n"
     ]
    }
   ],
   "source": [
    "def arg_printer(func):\n",
    "    def wrapper(*args, **kwargs):\n",
    "        print(f\"Arguments: {args}, Keyword arguments: {kwargs}\")\n",
    "        return func(*args, **kwargs)\n",
    "    return wrapper\n",
    "\n",
    "\n",
    "class Calculator:\n",
    "    @arg_printer\n",
    "    def add(self, a, b):\n",
    "        return a + b\n",
    "\n",
    "\n",
    "calc = Calculator()\n",
    "result = calc.add(3, 5)"
   ]
  },
  {
   "cell_type": "code",
   "execution_count": 51,
   "metadata": {},
   "outputs": [
    {
     "name": "stdout",
     "output_type": "stream",
     "text": [
      "Accessing attribute 'greet'\n"
     ]
    }
   ],
   "source": [
    "def log_attribute_access(func):\n",
    "    def wrapper(self, *args, **kwargs):\n",
    "        print(f\"Accessing attribute '{func.__name__}'\")\n",
    "        return func(self, *args, **kwargs)\n",
    "    return wrapper\n",
    "\n",
    "\n",
    "class Person:\n",
    "    def __init__(self, name):\n",
    "        self.name = name\n",
    "\n",
    "    @log_attribute_access\n",
    "    def greet(self):\n",
    "        return f\"Hello, my name is {self.name}.\"\n",
    "\n",
    "\n",
    "person = Person(\"Alice\")\n",
    "message = person.greet()"
   ]
  },
  {
   "cell_type": "code",
   "execution_count": 52,
   "metadata": {},
   "outputs": [
    {
     "data": {
      "text/plain": [
       "'Added by decorator'"
      ]
     },
     "execution_count": 52,
     "metadata": {},
     "output_type": "execute_result"
    }
   ],
   "source": [
    "def add_attribute(cls):\n",
    "    cls.new_attribute = \"Added by decorator\"\n",
    "    return cls\n",
    "\n",
    "@add_attribute\n",
    "class MyClass:\n",
    "    pass\n",
    "\n",
    "obj = MyClass()\n",
    "obj.new_attribute"
   ]
  },
  {
   "cell_type": "code",
   "execution_count": 53,
   "metadata": {},
   "outputs": [
    {
     "name": "stdout",
     "output_type": "stream",
     "text": [
      "True\n"
     ]
    }
   ],
   "source": [
    "def singleton(cls):\n",
    "    instances = {}\n",
    "\n",
    "    @wraps(cls)\n",
    "    def get_instance(*args, **kwargs):\n",
    "        if cls not in instances:\n",
    "            instances[cls] = cls(*args, **kwargs)\n",
    "        return instances[cls]\n",
    "\n",
    "    return get_instance\n",
    "\n",
    "\n",
    "@singleton\n",
    "class DatabaseConnection:\n",
    "    def __init__(self, connection_string):\n",
    "        self.connection_string = connection_string\n",
    "\n",
    "\n",
    "db1 = DatabaseConnection(\"db_connection_string_1\")\n",
    "db2 = DatabaseConnection(\"db_connection_string_2\")\n",
    "\n",
    "print(db1 is db2)"
   ]
  },
  {
   "cell_type": "code",
   "execution_count": 54,
   "metadata": {},
   "outputs": [],
   "source": [
    "class ControllerMeta(type):\n",
    "    def __init__(cls, name, bases, attrs):\n",
    "        if \"routes\" not in attrs:\n",
    "            cls.routes = {}\n",
    "        super().__init__(name, bases, attrs)\n",
    "\n",
    "\n",
    "class BaseController(metaclass=ControllerMeta):\n",
    "    def __init__(self, request):\n",
    "        self.request = request\n",
    "\n",
    "    @classmethod\n",
    "    def add_route(cls, route, method):\n",
    "        def decorator(handler):\n",
    "            cls.routes[(route, method)] = handler\n",
    "            return handler\n",
    "        return decorator\n",
    "\n",
    "\n",
    "class UserController(BaseController):\n",
    "    @BaseController.add_route(\"/user/profile\", \"GET\")\n",
    "    def profile(self):\n",
    "        return f\"User profile for {self.request.user}\"\n",
    "\n",
    "\n",
    "class ArticleController(BaseController):\n",
    "    @BaseController.add_route(\"/article/view/<int:article_id>\", \"GET\")\n",
    "    def view(self, article_id):\n",
    "        return f\"Viewing article {article_id}\"\n",
    "\n",
    "\n",
    "# Example usage in a web framework\n",
    "request = {\"user\": \"Alice\", \"method\": \"GET\"}\n",
    "user_controller = UserController(request)\n",
    "article_controller = ArticleController(request)"
   ]
  },
  {
   "cell_type": "code",
   "execution_count": 55,
   "metadata": {},
   "outputs": [
    {
     "name": "stdout",
     "output_type": "stream",
     "text": [
      "{}\n"
     ]
    }
   ],
   "source": [
    "print(article_controller.routes)"
   ]
  },
  {
   "cell_type": "code",
   "execution_count": 56,
   "metadata": {},
   "outputs": [
    {
     "name": "stdout",
     "output_type": "stream",
     "text": [
      "{}\n"
     ]
    }
   ],
   "source": [
    "print(user_controller.routes)\n"
   ]
  },
  {
   "cell_type": "code",
   "execution_count": 57,
   "metadata": {},
   "outputs": [],
   "source": [
    "from functools import lru_cache\n",
    "\n",
    "@lru_cache(maxsize=3)\n",
    "def fibonacci(n):\n",
    "    if n <= 1:\n",
    "        return n\n",
    "    else:\n",
    "        return fibonacci(n-1) + fibonacci(n-2)"
   ]
  },
  {
   "cell_type": "code",
   "execution_count": 58,
   "metadata": {},
   "outputs": [
    {
     "data": {
      "text/plain": [
       "144"
      ]
     },
     "execution_count": 58,
     "metadata": {},
     "output_type": "execute_result"
    }
   ],
   "source": [
    "fibonacci(12)"
   ]
  },
  {
   "cell_type": "code",
   "execution_count": 59,
   "metadata": {},
   "outputs": [],
   "source": [
    "# from functools import lru_cache\n",
    "\n",
    "\n",
    "# @lru_cache(maxsize=None)\n",
    "# def fetch_data(url):\n",
    "#     # Fetch data from the internet\n",
    "#     return data"
   ]
  },
  {
   "cell_type": "code",
   "execution_count": 60,
   "metadata": {},
   "outputs": [
    {
     "name": "stdout",
     "output_type": "stream",
     "text": [
      "Decorator with arguments: foo, bar\n",
      "Function\n"
     ]
    }
   ],
   "source": [
    "def my_decorator_factory(arg1, arg2):\n",
    "    def my_decorator(func):\n",
    "        def wrapper(*args, **kwargs):\n",
    "            print(f\"Decorator with arguments: {arg1}, {arg2}\")\n",
    "            result = func(*args, **kwargs)\n",
    "            return result\n",
    "        return wrapper\n",
    "    return my_decorator\n",
    "\n",
    "\n",
    "@my_decorator_factory(\"foo\", \"bar\")\n",
    "def my_function():\n",
    "    print(\"Function\")\n",
    "\n",
    "\n",
    "my_function()"
   ]
  },
  {
   "cell_type": "code",
   "execution_count": null,
   "metadata": {},
   "outputs": [],
   "source": [
    "def authorization_decorator_factory(access_level):\n",
    "    def authorization_decorator(func):\n",
    "        def wrapper(*args, **kwargs):\n",
    "            user = args[0].user  # Assuming the first argument is a user object\n",
    "            if user.has_access(access_level):\n",
    "                return func(*args, **kwargs)\n",
    "            else:\n",
    "                raise PermissionError(\"Access denied\")\n",
    "\n",
    "        return wrapper\n",
    "    return authorization_decorator\n",
    "\n",
    "\n",
    "class User:\n",
    "    def __init__(self, access_level):\n",
    "        self.access_level = access_level\n",
    "\n",
    "    def has_access(self, required_level):\n",
    "        return self.access_level >= required_level\n",
    "\n",
    "\n",
    "class SecureApp:\n",
    "    def __init__(self, user):\n",
    "        self.user = user\n",
    "\n",
    "    @authorization_decorator_factory(2)  # Requires access level 2\n",
    "    def sensitive_operation(self):\n",
    "        print(\"Sensitive operation performed\")\n",
    "\n",
    "\n",
    "user = User(access_level=3)\n",
    "app = SecureApp(user)\n",
    "app.sensitive_operation()"
   ]
  },
  {
   "cell_type": "code",
   "execution_count": 61,
   "metadata": {},
   "outputs": [
    {
     "name": "stdout",
     "output_type": "stream",
     "text": [
      "Execution time: 1000.1213550567627 ms\n"
     ]
    }
   ],
   "source": [
    "def timer_decorator_factory(unit=\"seconds\"):\n",
    "    def timer_decorator(func):\n",
    "        def wrapper(*args, **kwargs):\n",
    "            start_time = time.time()\n",
    "            result = func(*args, **kwargs)\n",
    "            end_time = time.time()\n",
    "            execution_time = end_time - start_time\n",
    "\n",
    "            if unit == \"milliseconds\":\n",
    "                print(f\"Execution time: {execution_time * 1000} ms\")\n",
    "            elif unit == \"seconds\":\n",
    "                print(f\"Execution time: {execution_time} s\")\n",
    "            else:\n",
    "                raise ValueError(\"Invalid unit\")\n",
    "\n",
    "            return result\n",
    "        return wrapper\n",
    "    return timer_decorator\n",
    "\n",
    "\n",
    "@timer_decorator_factory(unit=\"milliseconds\")\n",
    "def slow_function():\n",
    "    time.sleep(1)\n",
    "\n",
    "\n",
    "slow_function()"
   ]
  },
  {
   "cell_type": "code",
   "execution_count": 62,
   "metadata": {},
   "outputs": [
    {
     "name": "stdout",
     "output_type": "stream",
     "text": [
      "Decorator with arguments: foo, bar\n",
      "Function\n",
      "Function name: my_function\n",
      "Function docstring: My function docstring\n"
     ]
    }
   ],
   "source": [
    "class MyDecorator:\n",
    "    def __init__(self, arg1, arg2):\n",
    "        self.arg1 = arg1\n",
    "        self.arg2 = arg2\n",
    "\n",
    "    def __call__(self, func):\n",
    "        # This ensures the decorated function retains its original metadata\n",
    "        @wraps(func)\n",
    "        def wrapper(*args, **kwargs):\n",
    "            print(f\"Decorator with arguments: {self.arg1}, {self.arg2}\")\n",
    "            result = func(*args, **kwargs)\n",
    "            return result\n",
    "        # Manually update wrapper's metadata\n",
    "        update_wrapper(wrapper, func)\n",
    "        return wrapper\n",
    "\n",
    "# Using the class-based decorator with optional arguments\n",
    "\n",
    "\n",
    "@MyDecorator(\"foo\", \"bar\")\n",
    "def my_function():\n",
    "    \"\"\"My function docstring\"\"\"\n",
    "    print(\"Function\")\n",
    "\n",
    "\n",
    "my_function()\n",
    "\n",
    "print(\"Function name:\", my_function.__name__)  # Output: \"my_function\"\n",
    "# Output: \"My function docstring\"\n",
    "print(\"Function docstring:\", my_function.__doc__)"
   ]
  },
  {
   "cell_type": "markdown",
   "metadata": {},
   "source": [
    "### classmethod, staticmethod and @property"
   ]
  }
 ],
 "metadata": {
  "kernelspec": {
   "display_name": "drlho-samples-u8efFIft",
   "language": "python",
   "name": "python3"
  },
  "language_info": {
   "codemirror_mode": {
    "name": "ipython",
    "version": 3
   },
   "file_extension": ".py",
   "mimetype": "text/x-python",
   "name": "python",
   "nbconvert_exporter": "python",
   "pygments_lexer": "ipython3",
   "version": "3.7.17"
  },
  "orig_nbformat": 4
 },
 "nbformat": 4,
 "nbformat_minor": 2
}
