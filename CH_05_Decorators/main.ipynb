{
 "cells": [
  {
   "cell_type": "code",
   "execution_count": 75,
   "metadata": {},
   "outputs": [],
   "source": [
    "from functools import wraps, lru_cache"
   ]
  },
  {
   "cell_type": "markdown",
   "metadata": {},
   "source": [
    "#### decorating functions"
   ]
  },
  {
   "cell_type": "code",
   "execution_count": 76,
   "metadata": {},
   "outputs": [],
   "source": [
    "def eggs(function):\n",
    "    @wraps(function)\n",
    "    def _eggs(*args, **kwargs):\n",
    "        print('%r got args: %r and kwargs: %r' %\n",
    "              (function.__name__, args, kwargs))\n",
    "        return function(*args, **kwargs)\n",
    "    return _eggs\n",
    "\n",
    "\n",
    "@eggs\n",
    "def spam(a, b, c):\n",
    "    '''The spam function Returns a * b + c'''\n",
    "    return a * b + c"
   ]
  },
  {
   "cell_type": "code",
   "execution_count": 77,
   "metadata": {},
   "outputs": [
    {
     "name": "stdout",
     "output_type": "stream",
     "text": [
      "'spam' got args: (1, 2, 3) and kwargs: {}\n"
     ]
    },
    {
     "data": {
      "text/plain": [
       "5"
      ]
     },
     "execution_count": 77,
     "metadata": {},
     "output_type": "execute_result"
    }
   ],
   "source": [
    "spam(1, 2, 3)"
   ]
  },
  {
   "cell_type": "code",
   "execution_count": 78,
   "metadata": {},
   "outputs": [
    {
     "name": "stdout",
     "output_type": "stream",
     "text": [
      "Help on function spam in module __main__:\n",
      "\n",
      "spam(a, b, c)\n",
      "    The spam function Returns a * b + c\n",
      "\n"
     ]
    }
   ],
   "source": [
    "help(spam)"
   ]
  },
  {
   "cell_type": "code",
   "execution_count": 79,
   "metadata": {},
   "outputs": [
    {
     "data": {
      "text/plain": [
       "'spam'"
      ]
     },
     "execution_count": 79,
     "metadata": {},
     "output_type": "execute_result"
    }
   ],
   "source": [
    "spam.__name__"
   ]
  },
  {
   "cell_type": "code",
   "execution_count": 80,
   "metadata": {},
   "outputs": [],
   "source": [
    "def spam(eggs):\n",
    "    return 'spam' * (eggs % 5)\n",
    "\n",
    "\n",
    "output = spam(3)"
   ]
  },
  {
   "cell_type": "code",
   "execution_count": 81,
   "metadata": {},
   "outputs": [
    {
     "name": "stdout",
     "output_type": "stream",
     "text": [
      "spam(3): 'spamspamspam'\n"
     ]
    }
   ],
   "source": [
    "def spam(eggs):\n",
    "    output = 'spam' * (eggs % 5)\n",
    "    print('spam(%r): %r' % (eggs, output))\n",
    "    return output\n",
    "\n",
    "\n",
    "output = spam(3)"
   ]
  },
  {
   "cell_type": "markdown",
   "metadata": {},
   "source": [
    "#### functools.wraps"
   ]
  },
  {
   "cell_type": "code",
   "execution_count": 82,
   "metadata": {},
   "outputs": [
    {
     "name": "stdout",
     "output_type": "stream",
     "text": [
      "spam((3,), {}): 'spamspamspam'\n"
     ]
    }
   ],
   "source": [
    "def debug(function):\n",
    "    @wraps(function)\n",
    "    def _debug(*args, **kwargs):\n",
    "        output = function(*args, **kwargs)\n",
    "        print('%s(%r, %r): %r' % (function.__name__, args, kwargs, output))\n",
    "        return output\n",
    "    return _debug\n",
    "\n",
    "\n",
    "@debug\n",
    "def spam(eggs):\n",
    "    return 'spam' * (eggs % 5)\n",
    "\n",
    "\n",
    "output = spam(3)"
   ]
  },
  {
   "cell_type": "markdown",
   "metadata": {},
   "source": [
    "#### memoization"
   ]
  },
  {
   "cell_type": "code",
   "execution_count": 83,
   "metadata": {},
   "outputs": [
    {
     "name": "stdout",
     "output_type": "stream",
     "text": [
      "fibonacci 1: 1\n",
      "fibonacci 2: 1\n",
      "fibonacci 3: 2\n",
      "fibonacci 4: 3\n",
      "fibonacci 5: 5\n",
      "fibonacci 6: 8\n"
     ]
    }
   ],
   "source": [
    "def memoize(function):\n",
    "    function.cache = dict()\n",
    "\n",
    "    @wraps(function)\n",
    "    def _memoize(*args):\n",
    "        if args not in function.cache:\n",
    "            function.cache[args] = function(*args)\n",
    "        return function.cache[args]\n",
    "    return _memoize\n",
    "\n",
    "@memoize\n",
    "def fibonacci(n):\n",
    "    if n < 2:\n",
    "        return n\n",
    "    else:\n",
    "        return fibonacci(n - 1) + fibonacci(n - 2)\n",
    "\n",
    "for i in range(1, 7):\n",
    "    print('fibonacci %d: %d' % (i, fibonacci(i)))\n"
   ]
  },
  {
   "cell_type": "code",
   "execution_count": 84,
   "metadata": {},
   "outputs": [
    {
     "data": {
      "text/plain": [
       "{(1,): 1, (0,): 0, (2,): 1, (3,): 2, (4,): 3, (5,): 5, (6,): 8}"
      ]
     },
     "execution_count": 84,
     "metadata": {},
     "output_type": "execute_result"
    }
   ],
   "source": [
    "fibonacci.__wrapped__.cache"
   ]
  },
  {
   "cell_type": "code",
   "execution_count": 85,
   "metadata": {},
   "outputs": [],
   "source": [
    "# Create a simple call counting decorator\n",
    "def counter(function):\n",
    "    function.calls = 0\n",
    "    @wraps(function)\n",
    "    def _counter(*args, **kwargs):\n",
    "        function.calls += 1\n",
    "        return function(*args, **kwargs)\n",
    "    return _counter\n",
    "\n",
    "# Create a LRU cache with size 3 \n",
    "@lru_cache(maxsize=3)\n",
    "@counter\n",
    "def fibonacci(n):\n",
    "    if n < 2:\n",
    "        return n\n",
    "    else:\n",
    "        return fibonacci(n - 1) + fibonacci(n - 2)"
   ]
  },
  {
   "cell_type": "code",
   "execution_count": 86,
   "metadata": {},
   "outputs": [
    {
     "data": {
      "text/plain": [
       "233"
      ]
     },
     "execution_count": 86,
     "metadata": {},
     "output_type": "execute_result"
    }
   ],
   "source": [
    "fibonacci(13)"
   ]
  },
  {
   "cell_type": "code",
   "execution_count": 87,
   "metadata": {},
   "outputs": [
    {
     "data": {
      "text/plain": [
       "CacheInfo(hits=11, misses=14, maxsize=3, currsize=3)"
      ]
     },
     "execution_count": 87,
     "metadata": {},
     "output_type": "execute_result"
    }
   ],
   "source": [
    "fibonacci.cache_info()"
   ]
  },
  {
   "cell_type": "code",
   "execution_count": 88,
   "metadata": {},
   "outputs": [
    {
     "data": {
      "text/plain": [
       "14"
      ]
     },
     "execution_count": 88,
     "metadata": {},
     "output_type": "execute_result"
    }
   ],
   "source": [
    "fibonacci.__wrapped__.__wrapped__.calls\n"
   ]
  },
  {
   "cell_type": "markdown",
   "metadata": {},
   "source": [
    "#### decorator arguments"
   ]
  },
  {
   "cell_type": "code",
   "execution_count": 89,
   "metadata": {},
   "outputs": [],
   "source": [
    "def add(extra_n=1):\n",
    "    'Add extra_n to the input of the decorated function'\n",
    "\n",
    "    # The inner function, notice that this is the actual\n",
    "    # decorator\n",
    "    def _add(function):\n",
    "        # The actual function that will be called\n",
    "        @wraps(function)\n",
    "        def __add(n):\n",
    "            return function(n + extra_n)\n",
    "\n",
    "        return __add\n",
    "\n",
    "    return _add"
   ]
  },
  {
   "cell_type": "code",
   "execution_count": 101,
   "metadata": {},
   "outputs": [
    {
     "data": {
      "text/plain": [
       "'eggseggs'"
      ]
     },
     "execution_count": 101,
     "metadata": {},
     "output_type": "execute_result"
    }
   ],
   "source": [
    "@add(extra_n=2)\n",
    "def eggs(n):\n",
    "    return 'eggs' * n\n",
    "\n",
    "eggs(1) # for * n = 1 "
   ]
  },
  {
   "cell_type": "code",
   "execution_count": 91,
   "metadata": {},
   "outputs": [],
   "source": [
    "def add(*args, **kwargs):\n",
    "    'Add n to the input of the decorated function'\n",
    "\n",
    "    # The default kwargs, we don't store this in kwargs\n",
    "    # because we want to make sure that args and kwargs\n",
    "    # can't both be filled\n",
    "    default_kwargs = dict(n=1)\n",
    "\n",
    "    # The inner function, notice that this is actually a\n",
    "    # decorator itself\n",
    "    def _add(function):\n",
    "        # The actual function that will be called\n",
    "        @wraps(function)\n",
    "        def __add(n):\n",
    "            default_kwargs.update(kwargs)\n",
    "            return function(n + default_kwargs['n'])\n",
    "\n",
    "        return __add\n",
    "\n",
    "    if len(args) == 1 and callable(args[0]) and not kwargs:\n",
    "        # Decorator call without arguments, just call it\n",
    "        # ourselves\n",
    "        return _add(args[0])\n",
    "    elif not args and kwargs:\n",
    "        # Decorator call with arguments, this time it will\n",
    "        # automatically be executed with function as the\n",
    "        # first argument\n",
    "        default_kwargs.update(kwargs)\n",
    "        return _add\n",
    "    else:\n",
    "        raise RuntimeError('This decorator only supports '\n",
    "                           'keyword arguments')\n",
    "\n",
    "@add\n",
    "def spam(n):\n",
    "    return 'spam' * n\n",
    "\n",
    "@add(n=3)\n",
    "def eggs(n):\n",
    "    return 'eggs' * n"
   ]
  },
  {
   "cell_type": "code",
   "execution_count": 92,
   "metadata": {},
   "outputs": [
    {
     "data": {
      "text/plain": [
       "'spamspamspamspam'"
      ]
     },
     "execution_count": 92,
     "metadata": {},
     "output_type": "execute_result"
    }
   ],
   "source": [
    "spam(3)"
   ]
  },
  {
   "cell_type": "code",
   "execution_count": 93,
   "metadata": {},
   "outputs": [
    {
     "data": {
      "text/plain": [
       "'eggseggseggseggseggs'"
      ]
     },
     "execution_count": 93,
     "metadata": {},
     "output_type": "execute_result"
    }
   ],
   "source": [
    "eggs(2)"
   ]
  },
  {
   "cell_type": "code",
   "execution_count": 95,
   "metadata": {},
   "outputs": [],
   "source": [
    "@add(n=4)\n",
    "def bacon(n):\n",
    "    return 'bacon' * n"
   ]
  },
  {
   "cell_type": "code",
   "execution_count": 96,
   "metadata": {},
   "outputs": [
    {
     "data": {
      "text/plain": [
       "'baconbaconbaconbaconbaconbacon'"
      ]
     },
     "execution_count": 96,
     "metadata": {},
     "output_type": "execute_result"
    }
   ],
   "source": [
    "bacon(2)"
   ]
  }
 ],
 "metadata": {
  "kernelspec": {
   "display_name": "data-science-k2Ak_Bao",
   "language": "python",
   "name": "python3"
  },
  "language_info": {
   "codemirror_mode": {
    "name": "ipython",
    "version": 3
   },
   "file_extension": ".py",
   "mimetype": "text/x-python",
   "name": "python",
   "nbconvert_exporter": "python",
   "pygments_lexer": "ipython3",
   "version": "3.11.4"
  },
  "orig_nbformat": 4
 },
 "nbformat": 4,
 "nbformat_minor": 2
}
